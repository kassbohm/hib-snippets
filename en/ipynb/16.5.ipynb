{
  "nbformat_minor": 1, 
  "nbformat": 4, 
  "cells": [
    {
      "source": [
        "from sympy.physics.units import *\n", 
        "from sympy import *\n", 
        "\n", 
        "prec = 3\n", 
        "\n", 
        "w0 = 50 / s\n", 
        "b = S(6)/100 /s**2\n", 
        "\n", 
        "dt = 10*2*pi\n", 
        "w2 = w0*w0 + 2*b*dt**3/3\n", 
        "\n", 
        "pprint(\"\\nw / (1/s):\")\n", 
        "tmp = sqrt(w2)\n", 
        "tmp /= 1/s\n", 
        "tmp = N(tmp, prec)\n", 
        "pprint(tmp)\n", 
        "\n", 
        "# w / (1/s):\n", 
        "# 111.\n"
      ], 
      "cell_type": "code", 
      "execution_count": null, 
      "outputs": [], 
      "metadata": {}
    }
  ], 
  "metadata": {
    "kernelspec": {
      "display_name": "Python 3", 
      "name": "python3", 
      "language": "python"
    }, 
    "language_info": {
      "mimetype": "text/x-python", 
      "nbconvert_exporter": "python", 
      "name": "python", 
      "file_extension": ".py", 
      "version": "3.6.1", 
      "pygments_lexer": "ipython3", 
      "codemirror_mode": {
        "version": 3, 
        "name": "ipython"
      }
    }, 
    "anaconda-cloud": {}
  }
}