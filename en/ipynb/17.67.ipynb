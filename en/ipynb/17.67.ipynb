{
  "nbformat_minor": 1, 
  "nbformat": 4, 
  "cells": [
    {
      "source": [
        "from sympy.physics.units import *\n", 
        "from sympy import *\n", 
        "\n", 
        "prec = 3\n", 
        "newton = kg*m/s**2\n", 
        "g = S(981)/100 *m/s**2\n", 
        "\n", 
        "mass, l = var(\"mass, l\")\n", 
        "\n", 
        "sub_list = [\n", 
        "    (mass, 4 *kg),\n", 
        "    (l, 2 *m),\n", 
        "    ]\n", 
        "\n", 
        "theta = mass*l**2/12\n", 
        "\n", 
        "a, alpha = var(\"a, alpha\")\n", 
        "eq1 = Eq( mass*a, mass*g - mass*g / 2 )\n", 
        "eq2 = Eq( theta*alpha, l*mass*g/4 )\n", 
        "\n", 
        "sol = solve([eq1, eq2], [a, alpha])\n", 
        "a, alpha = sol[a], sol[alpha]\n", 
        "\n", 
        "pprint(\"\\na / (m/s\u00b2):\")\n", 
        "tmp = a\n", 
        "tmp = tmp.subs(sub_list)\n", 
        "tmp /= m/s**2\n", 
        "tmp = N(tmp,prec)\n", 
        "pprint(tmp)\n", 
        "\n", 
        "pprint(\"\\nalpha / (1/s\u00b2):\")\n", 
        "tmp = alpha\n", 
        "tmp = tmp.subs(sub_list)\n", 
        "tmp /= 1/s**2\n", 
        "tmp = N(tmp,prec)\n", 
        "pprint(tmp)\n", 
        "\n", 
        "# a / (m/s\u00b2):\n", 
        "# 4.91 (must be 4.90 if rounded to even)\n", 
        "#\n", 
        "# alpha / (1/s\u00b2):\n", 
        "# 14.7\n"
      ], 
      "cell_type": "code", 
      "execution_count": null, 
      "outputs": [], 
      "metadata": {}
    }
  ], 
  "metadata": {
    "kernelspec": {
      "display_name": "Python 3", 
      "name": "python3", 
      "language": "python"
    }, 
    "language_info": {
      "mimetype": "text/x-python", 
      "nbconvert_exporter": "python", 
      "name": "python", 
      "file_extension": ".py", 
      "version": "3.6.1", 
      "pygments_lexer": "ipython3", 
      "codemirror_mode": {
        "version": 3, 
        "name": "ipython"
      }
    }, 
    "anaconda-cloud": {}
  }
}