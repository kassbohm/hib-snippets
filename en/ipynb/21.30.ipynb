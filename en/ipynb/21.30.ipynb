{
  "nbformat_minor": 1, 
  "nbformat": 4, 
  "cells": [
    {
      "source": [
        "from sympy.physics.units import *\n", 
        "from sympy import *\n", 
        "\n", 
        "M = var(\"mass\")\n", 
        "g = 9.81 *m/s/s\n", 
        "(d , h) = (1.5 *m , 2.5 *m)\n", 
        "\n", 
        "r = d/2\n", 
        "\n", 
        "pprint(\"\\nv1 / (m/s):\")\n", 
        "v1 = sqrt(2*g*h)\n", 
        "tmp = v1\n", 
        "tmp /= m/s\n", 
        "pprint(N(tmp,3))\n", 
        "\n", 
        "J_S = M*r**2 / 4\n", 
        "J_A = J_S + M*r*r\n", 
        "\n", 
        "v2 = var(\"v2\")\n", 
        "\n", 
        "eq = Eq(r*M*v1, J_A*v2/r)\n", 
        "\n", 
        "sol = solve(eq,v2)[0]\n", 
        "pprint(\"\\nv2 / (m/s):\")\n", 
        "tmp = sol\n", 
        "tmp /= m/s\n", 
        "pprint(N(tmp,3))\n", 
        "\n", 
        "# v1 / (m/s):\n", 
        "# 7.00\n", 
        "#\n", 
        "# v2 / (m/s):\n", 
        "# 5.60\n"
      ], 
      "cell_type": "code", 
      "execution_count": null, 
      "outputs": [], 
      "metadata": {}
    }
  ], 
  "metadata": {
    "kernelspec": {
      "display_name": "Python 3", 
      "name": "python3", 
      "language": "python"
    }, 
    "language_info": {
      "mimetype": "text/x-python", 
      "nbconvert_exporter": "python", 
      "name": "python", 
      "file_extension": ".py", 
      "version": "3.6.1", 
      "pygments_lexer": "ipython3", 
      "codemirror_mode": {
        "version": 3, 
        "name": "ipython"
      }
    }, 
    "anaconda-cloud": {}
  }
}