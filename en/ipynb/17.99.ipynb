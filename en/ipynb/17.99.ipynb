{
  "nbformat_minor": 1, 
  "nbformat": 4, 
  "cells": [
    {
      "source": [
        "from sympy.physics.units import *\n", 
        "from sympy import *\n", 
        "\n", 
        "prec = 3\n", 
        "\n", 
        "g = var(\"g\")\n", 
        "M, l = var(\"M, l\")\n", 
        "beta = var(\"beta\")\n", 
        "\n", 
        "sub_list = [\n", 
        "    ( g, 9.81  *m/s/s ),\n", 
        "    ( M, 2  *kg ),\n", 
        "    ( l, S(3)/10  *m ),\n", 
        "    ( beta, 30*pi/180),\n", 
        "]\n", 
        "\n", 
        "I = S(1)/12 *M*l*l\n", 
        "cb, sb = cos(beta), sin(beta)\n", 
        "\n", 
        "ax,ay, aBx,aBy,aB, S,alpha = var(\"ax,ay, aBx,aBy,aB, S,alpha\")\n", 
        "unks = [ax,ay, aBx,aBy,aB, S,alpha]\n", 
        "\n", 
        "e1 = Eq( M*ax , S*cb )\n", 
        "e2 = Eq( M*ay , -M*g + S*sb )\n", 
        "e3 = Eq( I*alpha , l/2*S*sb )\n", 
        "e4 = Eq( aBx, -aB*sb )\n", 
        "e5 = Eq( aBy,  aB*cb )\n", 
        "e6 = Eq( aBx,  ax )\n", 
        "e7 = Eq( aBy,  ay + alpha*l/2 )\n", 
        "\n", 
        "eqs = [e1,e2,e3,e4,e5,e6,e7]\n", 
        "\n", 
        "# solve linear system:\n", 
        "sol = solve(eqs, unks)\n", 
        "ax, ay = sol[ax], sol[ay]\n", 
        "\n", 
        "pprint(\"\\nax / (m/s\u00b2):\")\n", 
        "tmp = ax\n", 
        "tmp = tmp.subs(sub_list)\n", 
        "tmp /= m/s**2\n", 
        "pprint(N(tmp,prec))\n", 
        "\n", 
        "pprint(\"\\nay / (m/s\u00b2):\")\n", 
        "tmp = ay\n", 
        "tmp = tmp.subs(sub_list)\n", 
        "tmp /= m/s**2\n", 
        "pprint(N(tmp,prec))\n"
      ], 
      "cell_type": "code", 
      "execution_count": null, 
      "outputs": [], 
      "metadata": {}
    }
  ], 
  "metadata": {
    "kernelspec": {
      "display_name": "Python 3", 
      "name": "python3", 
      "language": "python"
    }, 
    "language_info": {
      "mimetype": "text/x-python", 
      "nbconvert_exporter": "python", 
      "name": "python", 
      "file_extension": ".py", 
      "version": "3.6.1", 
      "pygments_lexer": "ipython3", 
      "codemirror_mode": {
        "version": 3, 
        "name": "ipython"
      }
    }, 
    "anaconda-cloud": {}
  }
}