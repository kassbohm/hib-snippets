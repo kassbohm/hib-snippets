{
  "nbformat_minor": 1, 
  "nbformat": 4, 
  "cells": [
    {
      "source": [
        "from sympy.physics.units import *\n", 
        "from sympy import *\n", 
        "\n", 
        "l = 2 *m\n", 
        "beta = N(20 *pi/180)\n", 
        "wz = 4 /s\n", 
        "wzp = 3 /s/s\n", 
        "\n", 
        "cb, sb = cos(beta), sin(beta)\n", 
        "c2b, s2b = cos(2*beta), sin(2*beta)\n", 
        "\n", 
        "w = Matrix([0, -wz*cb/sb, 0])\n", 
        "\n", 
        "pprint(\"\\nw / (1/s):\")\n", 
        "tmp = w\n", 
        "tmp /= 1/s\n", 
        "pprint(N(tmp,3))\n", 
        "\n", 
        "rA = l * Matrix([0, c2b, s2b])\n", 
        "pprint(\"\\nrA / m:\")\n", 
        "tmp = rA / m\n", 
        "pprint(N(tmp,3))\n", 
        "\n", 
        "vA = w.cross(rA)\n", 
        "\n", 
        "pprint(\"\\nvA / (m/s):\")\n", 
        "tmp = vA / (m/s)\n", 
        "pprint(N(tmp,3))\n", 
        "\n", 
        "wp_xyz = Matrix([0, -wzp*cb/sb, 0])\n", 
        "wp_e = Matrix([wz*wz*cb/sb, 0, 0])\n", 
        "\n", 
        "wp = wp_xyz + wp_e\n", 
        "pprint(\"\\nwp / (1/s\u00b2):\")\n", 
        "tmp = wp / (1/s/s)\n", 
        "pprint(N(tmp,3))\n", 
        "\n", 
        "aA = wp.cross(rA) + w.cross(vA)\n", 
        "pprint(\"\\naA / (m/s\u00b2):\")\n", 
        "tmp = aA / (m/s/s)\n", 
        "pprint(N(tmp,3))\n"
      ], 
      "cell_type": "code", 
      "execution_count": null, 
      "outputs": [], 
      "metadata": {}
    }
  ], 
  "metadata": {
    "kernelspec": {
      "display_name": "Python 3", 
      "name": "python3", 
      "language": "python"
    }, 
    "language_info": {
      "mimetype": "text/x-python", 
      "nbconvert_exporter": "python", 
      "name": "python", 
      "file_extension": ".py", 
      "version": "3.6.1", 
      "pygments_lexer": "ipython3", 
      "codemirror_mode": {
        "version": 3, 
        "name": "ipython"
      }
    }, 
    "anaconda-cloud": {}
  }
}