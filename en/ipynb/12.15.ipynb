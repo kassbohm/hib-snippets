{
  "nbformat_minor": 1, 
  "nbformat": 4, 
  "cells": [
    {
      "source": [
        "from sympy.physics.units import *\n", 
        "from sympy import *\n", 
        "\n", 
        "k = 5 *m*m/s\n", 
        "b = 4 *m\n", 
        "\n", 
        "s2 = var(\"s2\", positive=True)\n", 
        "eq = Eq( k * 6*s, b*s2 + s2*s2/2 - b *5*m - 12*m*m  )\n", 
        "\n", 
        "pprint(\"\\nEquation:\")\n", 
        "pprint(eq)\n", 
        "\n", 
        "s2 = solve(eq,s2)[0]\n", 
        "pprint(\"\\ns2 / m:\")\n", 
        "pprint(N(s2/m,3))\n"
      ], 
      "cell_type": "code", 
      "execution_count": null, 
      "outputs": [], 
      "metadata": {}
    }
  ], 
  "metadata": {
    "kernelspec": {
      "display_name": "Python 3", 
      "name": "python3", 
      "language": "python"
    }, 
    "language_info": {
      "mimetype": "text/x-python", 
      "nbconvert_exporter": "python", 
      "name": "python", 
      "file_extension": ".py", 
      "version": "3.6.1", 
      "pygments_lexer": "ipython3", 
      "codemirror_mode": {
        "version": 3, 
        "name": "ipython"
      }
    }, 
    "anaconda-cloud": {}
  }
}