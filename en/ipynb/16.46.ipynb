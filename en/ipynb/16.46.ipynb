{
  "nbformat_minor": 1, 
  "nbformat": 4, 
  "cells": [
    {
      "source": [
        "from sympy.physics.units import *\n", 
        "from sympy import *\n", 
        "from mpmath import radians\n", 
        "\n", 
        "l = 5 *m\n", 
        "vA = 6 *m/s\n", 
        "alpha = radians(30)\n", 
        "phi = radians(45)\n", 
        "\n", 
        "sp, cp = sin(phi), cos(phi)\n", 
        "ca, ta = cos(alpha), tan(alpha)\n", 
        "\n", 
        "pprint(\"\\n\u03c9 / (1/s):\")\n", 
        "dCA = l * (cp*ta + sp)\n", 
        "w = vA / dCA\n", 
        "tmp = w\n", 
        "tmp /= (1/s)\n", 
        "pprint(N(tmp,3))\n", 
        "\n", 
        "pprint(\"\\nvB / (m/s):\")\n", 
        "dCB = l*cp/ca\n", 
        "vB = w*dCB\n", 
        "tmp = vB\n", 
        "tmp /= m/s\n", 
        "pprint(N(tmp,3))\n"
      ], 
      "cell_type": "code", 
      "execution_count": null, 
      "outputs": [], 
      "metadata": {}
    }
  ], 
  "metadata": {
    "kernelspec": {
      "display_name": "Python 3", 
      "name": "python3", 
      "language": "python"
    }, 
    "language_info": {
      "mimetype": "text/x-python", 
      "nbconvert_exporter": "python", 
      "name": "python", 
      "file_extension": ".py", 
      "version": "3.6.1", 
      "pygments_lexer": "ipython3", 
      "codemirror_mode": {
        "version": 3, 
        "name": "ipython"
      }
    }, 
    "anaconda-cloud": {}
  }
}