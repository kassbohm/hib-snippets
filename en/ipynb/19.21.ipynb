{
  "nbformat_minor": 1, 
  "nbformat": 4, 
  "cells": [
    {
      "source": [
        "from sympy.physics.units import *\n", 
        "from sympy import *\n", 
        "\n", 
        "prec=3\n", 
        "\n", 
        "newton = kg*m/s**2\n", 
        "mm = m/1000\n", 
        "\n", 
        "mass = 12 *kg\n", 
        "r = 200 *mm\n", 
        "w0 = 20 /s\n", 
        "mu = S(4)/10\n", 
        "\n", 
        "J = mass*r*r / 2\n", 
        "k = 2 *mu*r / J\n", 
        "\n", 
        "w1 = w0 - k * 5 *newton*s\n", 
        "\n", 
        "pprint(\"\\n\u03c9\u2081 / (1/s):\")\n", 
        "tmp = w1\n", 
        "tmp/= 1/s\n", 
        "pprint(N(tmp,prec))\n", 
        "\n", 
        "pprint(\"\\ndt / s:\")\n", 
        "dt = w1 / k / ( 5 *newton)\n", 
        "tmp = dt\n", 
        "tmp /= s\n", 
        "pprint(tmp)\n"
      ], 
      "cell_type": "code", 
      "execution_count": null, 
      "outputs": [], 
      "metadata": {}
    }
  ], 
  "metadata": {
    "kernelspec": {
      "display_name": "Python 3", 
      "name": "python3", 
      "language": "python"
    }, 
    "language_info": {
      "mimetype": "text/x-python", 
      "nbconvert_exporter": "python", 
      "name": "python", 
      "file_extension": ".py", 
      "version": "3.6.1", 
      "pygments_lexer": "ipython3", 
      "codemirror_mode": {
        "version": 3, 
        "name": "ipython"
      }
    }, 
    "anaconda-cloud": {}
  }
}