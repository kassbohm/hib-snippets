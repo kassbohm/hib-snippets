{
  "nbformat_minor": 1, 
  "nbformat": 4, 
  "cells": [
    {
      "source": [
        "from sympy import *\n", 
        "\n", 
        "# 10.6 and 10.7 solved here\n", 
        "\n", 
        "rho = var(\"rho\")\n", 
        "x,y,z = var(\"x,y,z\")\n", 
        "a, h = var(\"a, h\")\n", 
        "m = var(\"m\")\n", 
        "\n", 
        "task = \"10.6\"\n", 
        "task = \"10.7\"\n", 
        "\n", 
        "if task == \"10.6\":\n", 
        "    i = y*z\n", 
        "elif task == \"10.7\":\n", 
        "    i = x*y\n", 
        "\n", 
        "i1 = integrate( i, (y, 0, a-x) )\n", 
        "i2 = integrate( i1, (x, 0, a) )\n", 
        "i3 = integrate( i2, (z, 0, h) )\n", 
        "I = rho*i3\n", 
        "\n", 
        "if task == \"10.6\":\n", 
        "    pprint(\"\\n10.6: Iyz:\")\n", 
        "    pprint(I)\n", 
        "\n", 
        "elif task == \"10.7\":\n", 
        "    pprint(\"\\n10.7: Ixy:\")\n", 
        "    pprint(I)\n", 
        "    I = I.subs(rho/2*a*a*h, m)\n", 
        "    pprint(\"\\n\")\n", 
        "    pprint(I)\n"
      ], 
      "cell_type": "code", 
      "execution_count": null, 
      "outputs": [], 
      "metadata": {}
    }
  ], 
  "metadata": {
    "kernelspec": {
      "display_name": "Python 3", 
      "name": "python3", 
      "language": "python"
    }, 
    "language_info": {
      "mimetype": "text/x-python", 
      "nbconvert_exporter": "python", 
      "name": "python", 
      "file_extension": ".py", 
      "version": "3.6.1", 
      "pygments_lexer": "ipython3", 
      "codemirror_mode": {
        "version": 3, 
        "name": "ipython"
      }
    }, 
    "anaconda-cloud": {}
  }
}