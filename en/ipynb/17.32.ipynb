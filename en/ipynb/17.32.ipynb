{
  "nbformat_minor": 1, 
  "nbformat": 4, 
  "cells": [
    {
      "source": [
        "g = S(981)/10 *m/s**2\n", 
        "\n", 
        "t =        5 *s\n", 
        "d = S(18)/10 *m\n", 
        "G =        1 *kN\n", 
        "\n", 
        "mass = G/g\n", 
        "\n", 
        "a = var(\"a\")\n", 
        "# x(t) = 1/2 a*t\u00b2\n", 
        "eq = Eq(2*d, a*t**2/2)\n", 
        "\n", 
        "a = solve(eq,a)[0]\n", 
        "tmp = a\n", 
        "tmp /= m/s**2\n", 
        "tmp = iso_round(tmp,0.001)\n", 
        "pprint(tmp)"
      ], 
      "cell_type": "code", 
      "execution_count": null, 
      "outputs": [], 
      "metadata": {}
    }
  ], 
  "metadata": {
    "kernelspec": {
      "display_name": "Python 3", 
      "name": "python3", 
      "language": "python"
    }, 
    "language_info": {
      "mimetype": "text/x-python", 
      "nbconvert_exporter": "python", 
      "name": "python", 
      "file_extension": ".py", 
      "version": "3.6.1", 
      "pygments_lexer": "ipython3", 
      "codemirror_mode": {
        "version": 3, 
        "name": "ipython"
      }
    }, 
    "anaconda-cloud": {}
  }
}