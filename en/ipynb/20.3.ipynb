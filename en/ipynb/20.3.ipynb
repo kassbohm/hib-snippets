{
  "nbformat_minor": 1, 
  "nbformat": 4, 
  "cells": [
    {
      "source": [
        "from sympy.physics.units import *\n", 
        "from sympy import *\n", 
        "\n", 
        "(w1, w2) = (0.6 /s, 8 /s)\n", 
        "beta = 45 *pi/180\n", 
        "(cb, sb) = (cos(beta), sin(beta))\n", 
        "\n", 
        "w = Matrix([0, w2*cb, w1 + w2*sb])\n", 
        "wp = Matrix([-w1*w2*cb, 0, 0])\n", 
        "\n", 
        "pprint(\"\\n\u03c9 / (1/s):\")\n", 
        "tmp = w\n", 
        "pprint(N(tmp / (1/s),3))\n", 
        "\n", 
        "pprint(\"\\n\u03c9' / (1/s\u00b2):\")\n", 
        "tmp = wp\n", 
        "pprint(N(tmp / (1/s/s),3))\n"
      ], 
      "cell_type": "code", 
      "execution_count": null, 
      "outputs": [], 
      "metadata": {}
    }
  ], 
  "metadata": {
    "kernelspec": {
      "display_name": "Python 3", 
      "name": "python3", 
      "language": "python"
    }, 
    "language_info": {
      "mimetype": "text/x-python", 
      "nbconvert_exporter": "python", 
      "name": "python", 
      "file_extension": ".py", 
      "version": "3.6.1", 
      "pygments_lexer": "ipython3", 
      "codemirror_mode": {
        "version": 3, 
        "name": "ipython"
      }
    }, 
    "anaconda-cloud": {}
  }
}