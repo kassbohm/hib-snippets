{
  "nbformat_minor": 1, 
  "nbformat": 4, 
  "cells": [
    {
      "source": [
        "from sympy.physics.units import *\n", 
        "from sympy import *\n", 
        "\n", 
        "t = var(\"t\")\n", 
        "\u03c9, \u03b1 = var(\"\u03c9, \u03b1\")\n", 
        "C, S = var(\"C, S\")\n", 
        "r, l = 3 *m, 5 *m\n", 
        "\n", 
        "theta = Function(\"theta\")(t)\n", 
        "s = sqrt(r*r + l*l - 2*r*l*cos(theta))\n", 
        "s = s.simplify()\n", 
        "\n", 
        "v = s.diff(t)\n", 
        "a = v.diff(t)\n", 
        "\n", 
        "pprint(\"\\nv:\")\n", 
        "tmp = v.subs(theta.diff(t),\u03c9)\n", 
        "tmp = tmp.subs(sin(theta),S)\n", 
        "tmp = tmp.subs(cos(theta),C)\n", 
        "pprint(tmp)\n", 
        "\n", 
        "\n", 
        "pprint(\"\\na:\")\n", 
        "tmp = a.subs(theta.diff(t),\u03c9)\n", 
        "tmp = tmp.subs(sin(theta),S)\n", 
        "tmp = tmp.subs(cos(theta),C)\n", 
        "pprint(tmp)\n"
      ], 
      "cell_type": "code", 
      "execution_count": null, 
      "outputs": [], 
      "metadata": {}
    }
  ], 
  "metadata": {
    "kernelspec": {
      "display_name": "Python 3", 
      "name": "python3", 
      "language": "python"
    }, 
    "language_info": {
      "mimetype": "text/x-python", 
      "nbconvert_exporter": "python", 
      "name": "python", 
      "file_extension": ".py", 
      "version": "3.6.1", 
      "pygments_lexer": "ipython3", 
      "codemirror_mode": {
        "version": 3, 
        "name": "ipython"
      }
    }, 
    "anaconda-cloud": {}
  }
}