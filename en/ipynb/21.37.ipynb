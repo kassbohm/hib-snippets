{
  "nbformat_minor": 1, 
  "nbformat": 4, 
  "cells": [
    {
      "source": [
        "from sympy.physics.units import kg, m, s\n", 
        "from sympy import *\n", 
        "\n", 
        "newton = kg*m/s**2\n", 
        "kN = 1000*newton\n", 
        "\n", 
        "mass = 150 *kg\n", 
        "b = S(4)/10 *m\n", 
        "F = S(8)/10 *kN\n", 
        "\n", 
        "prec = 5\n", 
        "\n", 
        "pprint(\"\\n\\nI wrt axis parallel to edges through CG / (kg m\u00b2):\")\n", 
        "b2 = b**2\n", 
        "I = mass/12*Matrix([\n", 
        "    [9*b2,  0,  0],\n", 
        "    [0, b2 + 9*b2, 0],\n", 
        "    [0, 0, b2],\n", 
        "    ])\n", 
        "tmp = I\n", 
        "tmp /= (kg * m**2)\n", 
        "pprint(N(tmp,prec))\n", 
        "\n", 
        "pprint(\"\\n\\nphi / deg:\")\n", 
        "phi = atan2(1,3)\n", 
        "tmp = phi*180/pi\n", 
        "pprint(N(tmp,prec))\n", 
        "C, S = cos(phi), sin(phi)\n", 
        "\n", 
        "# Unit vector:\n", 
        "u = Matrix([S, 0, C])\n", 
        "\n", 
        "# Mom. of inertia wrt axis along u:\n", 
        "pprint(\"\\n\\nIuu / (kg m\u00b2):\")\n", 
        "Iuu = u.transpose().dot(I.dot(u))\n", 
        "tmp = Iuu\n", 
        "tmp /= (kg * m**2)\n", 
        "pprint(N(tmp,prec))\n", 
        "\n", 
        "w = var(\"omega\", positive=True)\n", 
        "w2 = w**2\n", 
        "Ekin = Iuu*w2/2\n", 
        "A = F * 3*b*S * 2*pi\n", 
        "\n", 
        "eq = Eq(Ekin, A)\n", 
        "sol = solve(eq, w)\n", 
        "pprint(\"\\n\\nw / (1/s):\")\n", 
        "tmp = sol[0]/(1/s)\n", 
        "pprint(N(tmp,prec))\n"
      ], 
      "cell_type": "code", 
      "execution_count": null, 
      "outputs": [], 
      "metadata": {}
    }
  ], 
  "metadata": {
    "kernelspec": {
      "display_name": "Python 3", 
      "name": "python3", 
      "language": "python"
    }, 
    "language_info": {
      "mimetype": "text/x-python", 
      "nbconvert_exporter": "python", 
      "name": "python", 
      "file_extension": ".py", 
      "version": "3.6.1", 
      "pygments_lexer": "ipython3", 
      "codemirror_mode": {
        "version": 3, 
        "name": "ipython"
      }
    }, 
    "anaconda-cloud": {}
  }
}