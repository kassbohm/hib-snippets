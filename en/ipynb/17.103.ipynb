{
  "nbformat_minor": 1, 
  "nbformat": 4, 
  "cells": [
    {
      "source": [
        "from sympy.physics.units import *\n", 
        "from sympy import *\n", 
        "\n", 
        "g, q, M, h, d = var(\"g, q, M, h, d\")\n", 
        "\n", 
        "sub_list = [\n", 
        "    ( g, S(981)/100 *m/s**2 ),\n", 
        "    ( q, 100 *newton/m  ),\n", 
        "    ( M, 600 *newton*m  ),\n", 
        "    ( h, 3 *m  ),\n", 
        "    ( d, 4 *m ),\n", 
        "]\n", 
        "\n", 
        "half = S(1)/2\n", 
        "l = sqrt(h*h + d*d)\n", 
        "\n", 
        "# masses:\n", 
        "m1g = q * h\n", 
        "m2g = q * l\n", 
        "m1 = m1g / g\n", 
        "m2 = m2g / g\n", 
        "theta1 = m1*h*h/12\n", 
        "\n", 
        "# x1 = x_1''\n", 
        "x1, Ah, Av, C, Gh, Gv = var(\"x_1, A_h, A_v, C, G_h, G_v\")\n", 
        "\n", 
        "e1 = Eq( 2*theta1*x1/h,  M - half*h*Ah - half*h*Gh )\n", 
        "e2 = Eq( m1*x1,  Ah - Gh)\n", 
        "e3 = Eq( 0,  m1*g - Gv - Av)\n", 
        "e4 = Eq( 0,  h*Gh - d*Gv - d*C)\n", 
        "e5 = Eq( 2*m2*x1,  Gh )\n", 
        "e6 = Eq( 0, Gv + m2*g - C)\n", 
        "\n", 
        "# solve linear system:\n", 
        "sol = solve([e1,e2,e3,e4,e5,e6], [x1, Ah, Av, C, Gh, Gv])\n", 
        "pprint(\"Gh, Gv, C / Newton:\")\n", 
        "Gh, Gv, C = sol[Gh], sol[Gv], sol[C]\n", 
        "for s in [Gh, Gv, C]:\n", 
        "    tmp = s/newton\n", 
        "    tmp = tmp.subs(sub_list)\n", 
        "    pprint(N(tmp,3))\n"
      ], 
      "cell_type": "code", 
      "execution_count": null, 
      "outputs": [], 
      "metadata": {}
    }
  ], 
  "metadata": {
    "kernelspec": {
      "display_name": "Python 3", 
      "name": "python3", 
      "language": "python"
    }, 
    "language_info": {
      "mimetype": "text/x-python", 
      "nbconvert_exporter": "python", 
      "name": "python", 
      "file_extension": ".py", 
      "version": "3.6.1", 
      "pygments_lexer": "ipython3", 
      "codemirror_mode": {
        "version": 3, 
        "name": "ipython"
      }
    }, 
    "anaconda-cloud": {}
  }
}