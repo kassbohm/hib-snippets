{
  "nbformat_minor": 1, 
  "nbformat": 4, 
  "cells": [
    {
      "source": [
        "from sympy.physics.units import *\n", 
        "from sympy import *\n", 
        "\n", 
        "mm = m/1000\n", 
        "newton=kg*m/s**2\n", 
        "kN = 1000*newton\n", 
        "\n", 
        "g = S(981)/100 *m/s/s\n", 
        "G = 85 *kN\n", 
        "\n", 
        "r = 375 *mm\n", 
        "k = S(14)/10 *m\n", 
        "t1 = 5 *s\n", 
        "v0 = 360 *m/s\n", 
        "F1 = 25 *kN\n", 
        "F2 = 4 *kN\n", 
        "\n", 
        "mass = G/g\n", 
        "J = mass*k*k\n", 
        "\n", 
        "v1 = v0 + (F1 + F2)/mass * t1\n", 
        "w1 = r *(F1 - F2)/J *t1\n", 
        "pprint(\"\\nv / (m/s):\")\n", 
        "pprint(N(v1/ (m/s),3))\n", 
        "pprint(\"\\n\u03c9 / (1/s):\")\n", 
        "pprint(N(w1 / (1/s),3))\n"
      ], 
      "cell_type": "code", 
      "execution_count": null, 
      "outputs": [], 
      "metadata": {}
    }
  ], 
  "metadata": {
    "kernelspec": {
      "display_name": "Python 3", 
      "name": "python3", 
      "language": "python"
    }, 
    "language_info": {
      "mimetype": "text/x-python", 
      "nbconvert_exporter": "python", 
      "name": "python", 
      "file_extension": ".py", 
      "version": "3.6.1", 
      "pygments_lexer": "ipython3", 
      "codemirror_mode": {
        "version": 3, 
        "name": "ipython"
      }
    }, 
    "anaconda-cloud": {}
  }
}