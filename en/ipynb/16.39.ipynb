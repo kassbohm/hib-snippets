{
  "nbformat_minor": 1, 
  "nbformat": 4, 
  "cells": [
    {
      "source": [
        "from sympy.physics.units import *\n", 
        "from sympy import *\n", 
        "from mpmath import radians\n", 
        "\n", 
        "prec = 4\n", 
        "\n", 
        "r = 3 * m/10\n", 
        "v = 2 * m/s\n", 
        "a = 3 * m/s**2\n", 
        "\n", 
        "p1 = radians(50)\n", 
        "pprint(p1)\n", 
        "(c1, s1) = (cos(p1), sin(p1))\n", 
        "\n", 
        "pprint(\"\\n\u03c9 / (1/s):\")\n", 
        "w = v/(r*s1)\n", 
        "tmp = w\n", 
        "tmp /= 1/s\n", 
        "pprint(N(tmp,prec))\n", 
        "\n", 
        "pprint(\"\\n\u03b1 / (1/s\u00b2):\")\n", 
        "tmp  = (a/r - w*w*c1)/s1\n", 
        "tmp /= (1/s**2)\n", 
        "pprint(N(tmp,prec))\n"
      ], 
      "cell_type": "code", 
      "execution_count": null, 
      "outputs": [], 
      "metadata": {}
    }
  ], 
  "metadata": {
    "kernelspec": {
      "display_name": "Python 3", 
      "name": "python3", 
      "language": "python"
    }, 
    "language_info": {
      "mimetype": "text/x-python", 
      "nbconvert_exporter": "python", 
      "name": "python", 
      "file_extension": ".py", 
      "version": "3.6.1", 
      "pygments_lexer": "ipython3", 
      "codemirror_mode": {
        "version": 3, 
        "name": "ipython"
      }
    }, 
    "anaconda-cloud": {}
  }
}