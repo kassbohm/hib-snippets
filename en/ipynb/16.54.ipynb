{
  "nbformat_minor": 1, 
  "nbformat": 4, 
  "cells": [
    {
      "source": [
        "from sympy.physics.units import *\n", 
        "from sympy import *\n", 
        "\n", 
        "wAB, theta, lAB = var(\"wAB, theta, lAB\")\n", 
        "ct, st = cos(theta), sin(theta)\n", 
        "rAB = Matrix([lAB*ct, lAB*st, 0])\n", 
        "WAB = Matrix([0,0,wAB])\n", 
        "\n", 
        "vB = WAB.cross(rAB)\n", 
        "pprint(vB)"
      ], 
      "cell_type": "code", 
      "execution_count": null, 
      "outputs": [], 
      "metadata": {}
    }
  ], 
  "metadata": {
    "kernelspec": {
      "display_name": "Python 3", 
      "name": "python3", 
      "language": "python"
    }, 
    "language_info": {
      "mimetype": "text/x-python", 
      "nbconvert_exporter": "python", 
      "name": "python", 
      "file_extension": ".py", 
      "version": "3.6.1", 
      "pygments_lexer": "ipython3", 
      "codemirror_mode": {
        "version": 3, 
        "name": "ipython"
      }
    }, 
    "anaconda-cloud": {}
  }
}