{
  "nbformat_minor": 1, 
  "nbformat": 4, 
  "cells": [
    {
      "source": [
        "from sympy.physics.units import *\n", 
        "from sympy import *\n", 
        "\n", 
        "t1 = 2 *s\n", 
        "s1 = 1 *m\n", 
        "v1 = 2 *m/s\n", 
        "t2 = 6 *s\n", 
        "b  = 2 *m/s/s/s\n", 
        "a0 = 1 *m/s/s\n", 
        "\n", 
        "s2 = s1 + v1*t2 - a0*t2*t2/2 +b*t2*t2*t2/6\n", 
        "v2 = v1 - a0*t2 + b*t2*t2/2\n", 
        "\n", 
        "pprint(\"\\ns2 / m:\")\n", 
        "tmp = s2\n", 
        "tmp /= m\n", 
        "pprint(N(tmp,3))\n", 
        "\n", 
        "pprint(\"\\nv2 / (m/s):\")\n", 
        "tmp = v2\n", 
        "tmp /= m/s\n", 
        "pprint(N(tmp,3))\n"
      ], 
      "cell_type": "code", 
      "execution_count": null, 
      "outputs": [], 
      "metadata": {}
    }
  ], 
  "metadata": {
    "kernelspec": {
      "display_name": "Python 3", 
      "name": "python3", 
      "language": "python"
    }, 
    "language_info": {
      "mimetype": "text/x-python", 
      "nbconvert_exporter": "python", 
      "name": "python", 
      "file_extension": ".py", 
      "version": "3.6.1", 
      "pygments_lexer": "ipython3", 
      "codemirror_mode": {
        "version": 3, 
        "name": "ipython"
      }
    }, 
    "anaconda-cloud": {}
  }
}