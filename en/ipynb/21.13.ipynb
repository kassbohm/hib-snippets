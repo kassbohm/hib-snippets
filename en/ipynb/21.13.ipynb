{
  "nbformat_minor": 1, 
  "nbformat": 4, 
  "cells": [
    {
      "source": [
        "from sympy.physics.units import *\n", 
        "from sympy import *\n", 
        "\n", 
        "prec = 3\n", 
        "\n", 
        "newton = kg*m/s**2\n", 
        "\n", 
        "a = 0.3 *m\n", 
        "qG = 25 *newton/m\n", 
        "g = 9.81 *m/s/s\n", 
        "\n", 
        "pprint(\"\\nmass / kg:\")\n", 
        "G = a*qG\n", 
        "mass = G/g\n", 
        "tmp = mass\n", 
        "tmp /= kg\n", 
        "pprint(N(tmp,prec))\n", 
        "\n", 
        "pprint(\"\\nx-coord of centroid / m:\")\n", 
        "(xS, yS) = (-2*a/3, a/2)\n", 
        "tmp = xS\n", 
        "tmp /= m\n", 
        "pprint(N(tmp,prec))\n", 
        "\n", 
        "pprint(\"\\ny-coord of centroid / m:\")\n", 
        "tmp = yS\n", 
        "tmp /= m\n", 
        "pprint(N(tmp,prec))\n", 
        "\n", 
        "pprint(\"\\nIx'x' / (kg m\u00b2):\")\n", 
        "Ix1 = mass * yS*yS\n", 
        "Ix2 = mass * a*a / 12\n", 
        "Ix3 = Ix1\n", 
        "Ix = Ix1 + Ix2 + Ix3\n", 
        "tmp = Ix\n", 
        "tmp /= kg*m**2\n", 
        "pprint(N(tmp,prec))\n", 
        "\n", 
        "pprint(\"\\nIy'y' / (kg m\u00b2):\")\n", 
        "Iy1 = mass * a*a / 12 + (a/6)**2*mass\n", 
        "Iy2 = 0 + (a/3)**2*mass\n", 
        "Iy3 = Iy1\n", 
        "Iy = Iy1+Iy2+Iy3\n", 
        "tmp = Iy\n", 
        "tmp /= kg*m**2\n", 
        "pprint(N(tmp,prec))\n"
      ], 
      "cell_type": "code", 
      "execution_count": null, 
      "outputs": [], 
      "metadata": {}
    }
  ], 
  "metadata": {
    "kernelspec": {
      "display_name": "Python 3", 
      "name": "python3", 
      "language": "python"
    }, 
    "language_info": {
      "mimetype": "text/x-python", 
      "nbconvert_exporter": "python", 
      "name": "python", 
      "file_extension": ".py", 
      "version": "3.6.1", 
      "pygments_lexer": "ipython3", 
      "codemirror_mode": {
        "version": 3, 
        "name": "ipython"
      }
    }, 
    "anaconda-cloud": {}
  }
}