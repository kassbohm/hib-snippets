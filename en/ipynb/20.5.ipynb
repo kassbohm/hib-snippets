{
  "nbformat_minor": 1, 
  "nbformat": 4, 
  "cells": [
    {
      "source": [
        "from sympy.physics.units import *\n", 
        "from sympy import *\n", 
        "\n", 
        "# Solution in book incorrect.\n", 
        "\n", 
        "mm = m / 1000\n", 
        "\n", 
        "ra = 160 *mm\n", 
        "rb = 80 *mm\n", 
        "\n", 
        "wz  = 5 /s\n", 
        "wzp = 2 /s/s\n", 
        "\n", 
        "w = Matrix([0, -2*wz, wz])\n", 
        "wp = Matrix([2*wz*wz, -2*wzp, wzp])\n", 
        "r = Matrix([0, ra, rb])\n", 
        "\n", 
        "pprint(\"\\nv / (m/s):\")\n", 
        "v = w.cross(r)\n", 
        "tmp = v\n", 
        "pprint(N(tmp / (m/s),3))\n", 
        "\n", 
        "pprint(\"\\na / (m/s\u00b2):\")\n", 
        "a = wp.cross(r) + w.cross(v)\n", 
        "tmp = a\n", 
        "pprint(N(tmp / (m/s/s),3))\n"
      ], 
      "cell_type": "code", 
      "execution_count": null, 
      "outputs": [], 
      "metadata": {}
    }
  ], 
  "metadata": {
    "kernelspec": {
      "display_name": "Python 3", 
      "name": "python3", 
      "language": "python"
    }, 
    "language_info": {
      "mimetype": "text/x-python", 
      "nbconvert_exporter": "python", 
      "name": "python", 
      "file_extension": ".py", 
      "version": "3.6.1", 
      "pygments_lexer": "ipython3", 
      "codemirror_mode": {
        "version": 3, 
        "name": "ipython"
      }
    }, 
    "anaconda-cloud": {}
  }
}