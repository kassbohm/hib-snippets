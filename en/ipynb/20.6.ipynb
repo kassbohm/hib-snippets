{
  "nbformat_minor": 1, 
  "nbformat": 4, 
  "cells": [
    {
      "source": [
        "from sympy.physics.units import *\n", 
        "from sympy import *\n", 
        "\n", 
        "mm = m/1000\n", 
        "\n", 
        "ra = 200 *mm\n", 
        "rb = 50 *mm\n", 
        "\n", 
        "wz  = 10 /s\n", 
        "wzp = 0 /s/s\n", 
        "\n", 
        "w = Matrix([0, -4*wz, wz])\n", 
        "wp = Matrix([4*wz*wz, 0, 0])\n", 
        "r = Matrix([0, ra, rb])\n", 
        "\n", 
        "pprint(\"\\nv / (m/s):\")\n", 
        "v = w.cross(r)\n", 
        "tmp = v\n", 
        "pprint(N(tmp / (m/s),3))\n", 
        "\n", 
        "pprint(\"\\na / (m/s\u00b2):\")\n", 
        "a = wp.cross(r) + w.cross(v)\n", 
        "tmp = a\n", 
        "pprint(N(tmp / (m/s/s),3))\n", 
        "\n", 
        "pprint(\"\\n|\u03c9| / (1/s):\")\n", 
        "tmp = w.norm()\n", 
        "pprint(N(tmp / (1/s),3))\n", 
        "\n", 
        "pprint(\"\\n|\u03c9'| / (1/s\u00b2):\")\n", 
        "tmp = wp.norm()\n", 
        "pprint(N(tmp / (1/s/s),3))\n"
      ], 
      "cell_type": "code", 
      "execution_count": null, 
      "outputs": [], 
      "metadata": {}
    }
  ], 
  "metadata": {
    "kernelspec": {
      "display_name": "Python 3", 
      "name": "python3", 
      "language": "python"
    }, 
    "language_info": {
      "mimetype": "text/x-python", 
      "nbconvert_exporter": "python", 
      "name": "python", 
      "file_extension": ".py", 
      "version": "3.6.1", 
      "pygments_lexer": "ipython3", 
      "codemirror_mode": {
        "version": 3, 
        "name": "ipython"
      }
    }, 
    "anaconda-cloud": {}
  }
}