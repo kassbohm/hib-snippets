{
  "nbformat_minor": 1, 
  "nbformat": 4, 
  "cells": [
    {
      "source": [
        "from sympy.physics.units import *\n", 
        "from sympy import *\n", 
        "\n", 
        "# precision:\n", 
        "prec = 3\n", 
        "\n", 
        "r = 6 *m\n", 
        "theta = 45 *pi/180\n", 
        "w1, w2 = 6 / second, 4 / second\n", 
        "v, a = 5 * m/second, 8 *m/second**2\n", 
        "\n", 
        "c, s = cos(theta), sin(theta)\n", 
        "\n", 
        "# Angular velocity of (x,y,z)-system:\n", 
        "Oz = Matrix([0, 0, w1])  # constant direction\n", 
        "Ox = Matrix([w2, 0, 0])  # direction changing with time\n", 
        "O = Oz + Ox   # direction changing with time\n", 
        "\n", 
        "# Position of P:\n", 
        "dOP = Matrix([0, r*c, r*s])\n", 
        "\n", 
        "# ----------------\n", 
        "# --- Velocity ---\n", 
        "# ----------------\n", 
        "\n", 
        "# Velocity of P relative to (x,y,z)-system:\n", 
        "vPxyz = Matrix([0, v*c, v*s])\n", 
        "\n", 
        "vP = O.cross(dOP) + vPxyz\n", 
        "tmp = vP\n", 
        "tmp /= m/second\n", 
        "pprint(\"\\nvP / (m/s):\")\n", 
        "pprint(N(tmp, prec))\n", 
        "\n", 
        "# --------------------\n", 
        "# --- Acceleration ---\n", 
        "# --------------------\n", 
        "\n", 
        "# Angular acceleration of (x,y.z)-system due to the\n", 
        "# change of *direction* of vector of angular velocity:\n", 
        "Op = Oz.cross(Ox)\n", 
        "\n", 
        "# Acceleration of P relative to (x,y,z)-system:\n", 
        "aPxyz = Matrix([0, a*c, a*s])\n", 
        "\n", 
        "aP = Op.cross(dOP) + O.cross(O.cross(dOP)) + 2 * O.cross(vPxyz) + aPxyz\n", 
        "tmp = aP\n", 
        "tmp /= m/second**2\n", 
        "pprint(\"\\naP / (m/s\u00b2):\")\n", 
        "pprint(N(tmp, prec))\n"
      ], 
      "cell_type": "code", 
      "execution_count": null, 
      "outputs": [], 
      "metadata": {}
    }
  ], 
  "metadata": {
    "kernelspec": {
      "display_name": "Python 3", 
      "name": "python3", 
      "language": "python"
    }, 
    "language_info": {
      "mimetype": "text/x-python", 
      "nbconvert_exporter": "python", 
      "name": "python", 
      "file_extension": ".py", 
      "version": "3.6.1", 
      "pygments_lexer": "ipython3", 
      "codemirror_mode": {
        "version": 3, 
        "name": "ipython"
      }
    }, 
    "anaconda-cloud": {}
  }
}