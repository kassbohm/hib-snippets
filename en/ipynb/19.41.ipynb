{
  "nbformat_minor": 1, 
  "nbformat": 4, 
  "cells": [
    {
      "source": [
        "from sympy.physics.units import *\n", 
        "from sympy import *\n", 
        "\n", 
        "(mAB, mS) = (2 *kg, 4 *kg)\n", 
        "(r, l) = (S(15)/100 *m, S(15)/10 *m)\n", 
        "w1 = 5 *1/s\n", 
        "\n", 
        "LC1 = mS *r*r *w1\n", 
        "\n", 
        "J2 = mAB/12 * l*l + 2*mS*(l/2)**2\n", 
        "\n", 
        "pprint(\"\\nw2 / (1/s):\")\n", 
        "w2 = LC1/J2\n", 
        "tmp = w2\n", 
        "tmp /= 1/s\n", 
        "pprint(N(tmp,3))\n"
      ], 
      "cell_type": "code", 
      "execution_count": null, 
      "outputs": [], 
      "metadata": {}
    }
  ], 
  "metadata": {
    "kernelspec": {
      "display_name": "Python 3", 
      "name": "python3", 
      "language": "python"
    }, 
    "language_info": {
      "mimetype": "text/x-python", 
      "nbconvert_exporter": "python", 
      "name": "python", 
      "file_extension": ".py", 
      "version": "3.6.1", 
      "pygments_lexer": "ipython3", 
      "codemirror_mode": {
        "version": 3, 
        "name": "ipython"
      }
    }, 
    "anaconda-cloud": {}
  }
}