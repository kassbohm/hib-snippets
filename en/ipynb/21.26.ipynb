{
  "nbformat_minor": 1, 
  "nbformat": 4, 
  "cells": [
    {
      "source": [
        "from sympy.physics.units import *\n", 
        "from sympy import *\n", 
        "\n", 
        "m, h, r = var(\"m, h, r\")\n", 
        "\n", 
        "xi = 3*h/4\n", 
        "\n", 
        "Iy = 3*m/20*(r*r + 4*h*h)\n", 
        "\n", 
        "pprint(\"\\nIyS\")\n", 
        "IyS = Iy - xi*xi*m\n", 
        "tmp = IyS\n", 
        "tmp = tmp.simplify()\n", 
        "pprint(tmp)\n"
      ], 
      "cell_type": "code", 
      "execution_count": null, 
      "outputs": [], 
      "metadata": {}
    }
  ], 
  "metadata": {
    "kernelspec": {
      "display_name": "Python 3", 
      "name": "python3", 
      "language": "python"
    }, 
    "language_info": {
      "mimetype": "text/x-python", 
      "nbconvert_exporter": "python", 
      "name": "python", 
      "file_extension": ".py", 
      "version": "3.6.1", 
      "pygments_lexer": "ipython3", 
      "codemirror_mode": {
        "version": 3, 
        "name": "ipython"
      }
    }, 
    "anaconda-cloud": {}
  }
}