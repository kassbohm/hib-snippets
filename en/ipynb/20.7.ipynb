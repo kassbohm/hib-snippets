{
  "nbformat_minor": 1, 
  "nbformat": 4, 
  "cells": [
    {
      "source": [
        "from sympy.physics.units import *\n", 
        "from sympy import *\n", 
        "\n", 
        "# x-component of acceleration is wrong in Hibbeler's book\n", 
        "\n", 
        "d = 1 *m\n", 
        "theta = 30 *pi/180\n", 
        "\n", 
        "(w1, w2)   = (3 /s, S(3)/2 /s)\n", 
        "(w1p, w2p) = (2 /s**2, 4 /s**2)\n", 
        "\n", 
        "# ---\n", 
        "(ct, st) = (cos(theta), sin(theta))\n", 
        "\n", 
        "w = Matrix([w2, 0, w1])\n", 
        "wp = Matrix([w2p, w1*w2, w1p])\n", 
        "r = Matrix([0, d*ct, d*st])\n", 
        "\n", 
        "pprint(\"\\nv / (m/s):\")\n", 
        "v = w.cross(r)\n", 
        "tmp = v\n", 
        "tmp /= m/s\n", 
        "pprint(N(tmp,3))\n", 
        "\n", 
        "pprint(\"\\na / (m/s\u00b2):\")\n", 
        "a = wp.cross(r) + w.cross(v)\n", 
        "tmp = a\n", 
        "tmp /= m/s**2\n", 
        "pprint(N(tmp,3))\n"
      ], 
      "cell_type": "code", 
      "execution_count": null, 
      "outputs": [], 
      "metadata": {}
    }
  ], 
  "metadata": {
    "kernelspec": {
      "display_name": "Python 3", 
      "name": "python3", 
      "language": "python"
    }, 
    "language_info": {
      "mimetype": "text/x-python", 
      "nbconvert_exporter": "python", 
      "name": "python", 
      "file_extension": ".py", 
      "version": "3.6.1", 
      "pygments_lexer": "ipython3", 
      "codemirror_mode": {
        "version": 3, 
        "name": "ipython"
      }
    }, 
    "anaconda-cloud": {}
  }
}