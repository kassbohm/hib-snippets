{
  "nbformat_minor": 1, 
  "nbformat": 4, 
  "cells": [
    {
      "source": [
        "from sympy import *\n", 
        "from sympy.physics.units import newton, meter, second, kilogram\n", 
        "\n", 
        "newton = kg*m/s**2\n", 
        "g = 981 *m/s**2 / 100\n", 
        "\n", 
        "G = 8 * newton\n", 
        "r = S(3)/10 *meter\n", 
        "l = S(5)/10 *meter\n", 
        "ws = 300 / second\n", 
        "\n", 
        "theta = S(40)*pi/180\n", 
        "# Solve numerically:\n", 
        "theta = N(theta)\n", 
        "\n", 
        "wp = var(\"omega_p\")\n", 
        "\n", 
        "c, s = cos(theta), sin(theta)\n", 
        "\n", 
        "m = G/g\n", 
        "\n", 
        "J = m*r*r/4 + l*l*m\n", 
        "Jz = m*r*r/2\n", 
        "\n", 
        "tmp = J / kilogram/meter/meter\n", 
        "pprint(\"\\nJ / (kg m\u00b2): \")\n", 
        "pprint(N(tmp,3))\n", 
        "\n", 
        "# Terms in equation divided by sin(theta):\n", 
        "t1 = G * l\n", 
        "t2 = - J *wp*wp *c\n", 
        "t3 = Jz * wp *(wp*c + ws)\n", 
        "\n", 
        "sol = solve(t1 - (t2 + t3))\n", 
        "pprint(\"\\nSolutions for wp:\")\n", 
        "pprint(sol)\n", 
        "\n", 
        "# J / (kg m\u00b2):\n", 
        "# 0.222\n", 
        "#\n", 
        "# Solutions for wp:\n", 
        "# \u23a10.365053676362308  77.098675580718\u23a4\n", 
        "# \u23a2\u2500\u2500\u2500\u2500\u2500\u2500\u2500\u2500\u2500\u2500\u2500\u2500\u2500\u2500\u2500\u2500\u2500, \u2500\u2500\u2500\u2500\u2500\u2500\u2500\u2500\u2500\u2500\u2500\u2500\u2500\u2500\u2500\u23a5\n", 
        "# \u23a3      second            second    \u23a6\n"
      ], 
      "cell_type": "code", 
      "execution_count": null, 
      "outputs": [], 
      "metadata": {}
    }
  ], 
  "metadata": {
    "kernelspec": {
      "display_name": "Python 3", 
      "name": "python3", 
      "language": "python"
    }, 
    "language_info": {
      "mimetype": "text/x-python", 
      "nbconvert_exporter": "python", 
      "name": "python", 
      "file_extension": ".py", 
      "version": "3.6.1", 
      "pygments_lexer": "ipython3", 
      "codemirror_mode": {
        "version": 3, 
        "name": "ipython"
      }
    }, 
    "anaconda-cloud": {}
  }
}