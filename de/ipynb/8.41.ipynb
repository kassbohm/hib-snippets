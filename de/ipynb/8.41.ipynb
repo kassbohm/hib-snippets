{
  "cells": [
    {
      "cell_type": "code",
      "metadata": {},
      "source": [
        "from sympy.physics.units import *\n",
        "from sympy import *\n",
        "\n",
        "(mAB, mS) = (2 *kg, 4 *kg)\n",
        "(r, l) = (S(15)/100 *m, S(15)/10 *m)\n",
        "w1 = 5 *1/s\n",
        "\n",
        "LC1 = mS *r*r *w1\n",
        "\n",
        "J2 = mAB/12 * l*l + 2*mS*(l/2)**2\n",
        "\n",
        "pprint(\"\\nw2 / (1/s):\")\n",
        "w2 = LC1/J2\n",
        "tmp = w2\n",
        "tmp /= 1/s\n",
        "pprint(N(tmp,3))\n"
      ],
      "outputs": [],
      "execution_count": null
    }
  ],
  "metadata": {
    "anaconda-cloud": {},
    "kernelspec": {
      "display_name": "Python 3",
      "language": "python",
      "name": "python3"
    },
    "language_info": {
      "codemirror_mode": {
        "name": "ipython",
        "version": 3
      },
      "file_extension": ".py",
      "mimetype": "text/x-python",
      "name": "python",
      "nbconvert_exporter": "python",
      "pygments_lexer": "ipython3",
      "version": "3.6.1"
    }
  },
  "nbformat": 4,
  "nbformat_minor": 1
}