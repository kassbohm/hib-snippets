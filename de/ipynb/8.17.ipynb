{
  "nbformat_minor": 1, 
  "nbformat": 4, 
  "cells": [
    {
      "source": [
        "from sympy.physics.units import *\n", 
        "from sympy import *\n", 
        "\n", 
        "prec = 3\n", 
        "\n", 
        "mm = m/1000\n", 
        "\n", 
        "g = 981*m/s**2/100\n", 
        "mass = 70 *kg\n", 
        "r = 300 *mm\n", 
        "k0 = 125 *mm\n", 
        "alpha = 30 *pi/180\n", 
        "\n", 
        "(muh, mug) = ( S(4)/10, S(3)/10 )\n", 
        "t = 2 *second\n", 
        "\n", 
        "sa, ca, ta = sin(alpha), cos(alpha), tan(alpha)\n", 
        "\n", 
        "J0 = mass *k0*k0\n", 
        "JA = J0 + mass*r*r\n", 
        "\n", 
        "# Angular acceleration:\n", 
        "p = mass *g*sa*r / JA\n", 
        "# Angular velocity:\n", 
        "w = p * t\n", 
        "\n", 
        "mu = (1 - mass*r*r/JA) *ta\n", 
        "\n", 
        "pprint(\"\\n\u03bc:\")\n", 
        "tmp = mu\n", 
        "pprint(N(tmp,prec))\n", 
        "\n", 
        "pprint(\"\\n\u03c9 / (1/s):\")\n", 
        "tmp = w\n", 
        "tmp /= 1/s\n", 
        "pprint(N(tmp,prec))\n"
      ], 
      "cell_type": "code", 
      "execution_count": null, 
      "outputs": [], 
      "metadata": {}
    }
  ], 
  "metadata": {
    "kernelspec": {
      "display_name": "Python 3", 
      "name": "python3", 
      "language": "python"
    }, 
    "language_info": {
      "mimetype": "text/x-python", 
      "nbconvert_exporter": "python", 
      "name": "python", 
      "file_extension": ".py", 
      "version": "3.6.1", 
      "pygments_lexer": "ipython3", 
      "codemirror_mode": {
        "version": 3, 
        "name": "ipython"
      }
    }, 
    "anaconda-cloud": {}
  }
}