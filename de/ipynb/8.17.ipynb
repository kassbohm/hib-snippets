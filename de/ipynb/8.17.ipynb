{
  "cells": [
    {
      "cell_type": "code",
      "metadata": {},
      "source": [
        "from sympy.physics.units import *\n",
        "from sympy import *\n",
        "\n",
        "prec = 3\n",
        "\n",
        "mm = m/1000\n",
        "\n",
        "g = 981*m/s**2/100\n",
        "mass = 70 *kg\n",
        "r = 300 *mm\n",
        "k0 = 125 *mm\n",
        "alpha = 30 *pi/180\n",
        "\n",
        "(muh, mug) = ( S(4)/10, S(3)/10 )\n",
        "t = 2 *second\n",
        "\n",
        "sa, ca, ta = sin(alpha), cos(alpha), tan(alpha)\n",
        "\n",
        "J0 = mass *k0*k0\n",
        "JA = J0 + mass*r*r\n",
        "\n",
        "# Angular acceleration:\n",
        "p = mass *g*sa*r / JA\n",
        "# Angular velocity:\n",
        "w = p * t\n",
        "\n",
        "mu = (1 - mass*r*r/JA) *ta\n",
        "\n",
        "pprint(\"\\n\u03bc:\")\n",
        "tmp = mu\n",
        "pprint(N(tmp,prec))\n",
        "\n",
        "pprint(\"\\n\u03c9 / (1/s):\")\n",
        "tmp = w\n",
        "tmp /= 1/s\n",
        "pprint(N(tmp,prec))\n"
      ],
      "outputs": [],
      "execution_count": null
    }
  ],
  "metadata": {
    "anaconda-cloud": {},
    "kernelspec": {
      "display_name": "Python 3",
      "language": "python",
      "name": "python3"
    },
    "language_info": {
      "codemirror_mode": {
        "name": "ipython",
        "version": 3
      },
      "file_extension": ".py",
      "mimetype": "text/x-python",
      "name": "python",
      "nbconvert_exporter": "python",
      "pygments_lexer": "ipython3",
      "version": "3.6.1"
    }
  },
  "nbformat": 4,
  "nbformat_minor": 1
}