{
  "cells": [
    {
      "cell_type": "code",
      "metadata": {},
      "source": [
        "from sympy.physics.units import *\n",
        "from sympy import *\n",
        "\n",
        "prec = 3\n",
        "g = var(\"g\")\n",
        "cm = m/100\n",
        "newton = kg*m/s**2\n",
        "\n",
        "R, M, I, F, t = var(\"R, M, I, F, t \")\n",
        "S, T, x, p = var(\"S, T, x, p\")\n",
        "\n",
        "sub_list=[\n",
        "    (R, 10 *cm),\n",
        "    (M, 2 *kg),\n",
        "    (I, 2*kg*m**2 / 10),\n",
        "    (F, 40 *newton),\n",
        "    (t, 2*s),\n",
        "    (g, 981 *m/s**2 / 100),\n",
        "    ]\n",
        "\n",
        "eq1 = Eq( 2*I/R * x, R*(F - S) )\n",
        "eq2 = Eq(  M * x, 2*S - M*g )\n",
        "\n",
        "sol = solve( [eq1, eq2], [S, x])\n",
        "\n",
        "pprint(\"\\nx'':\")\n",
        "x = sol[x]\n",
        "pprint(x)\n",
        "pprint(\"\\nx'' / (m/s\u00b2):\")\n",
        "tmp = x\n",
        "tmp = tmp.subs(sub_list)\n",
        "tmp /= (m/s**2)\n",
        "pprint(N(tmp,prec))\n",
        "\n",
        "pprint(\"\\nv / (m/s):\")\n",
        "v = x*t\n",
        "tmp = v\n",
        "tmp = tmp.subs(sub_list)\n",
        "tmp /= m/s\n",
        "pprint(N(tmp,prec))\n",
        "\n",
        "# x'':\n",
        "#  2\n",
        "# R \u22c5(2\u22c5F - M\u22c5g)\n",
        "# \u2500\u2500\u2500\u2500\u2500\u2500\u2500\u2500\u2500\u2500\u2500\u2500\u2500\u2500\n",
        "#            2\n",
        "#   4\u22c5I + M\u22c5R\n",
        "#\n",
        "# x'' / (m/s\u00b2):\n",
        "# 0.736\n",
        "#\n",
        "# v / (m/s):\n",
        "# 1.47\n"
      ],
      "outputs": [],
      "execution_count": null
    }
  ],
  "metadata": {
    "anaconda-cloud": {},
    "kernelspec": {
      "display_name": "Python 3",
      "language": "python",
      "name": "python3"
    },
    "language_info": {
      "codemirror_mode": {
        "name": "ipython",
        "version": 3
      },
      "file_extension": ".py",
      "mimetype": "text/x-python",
      "name": "python",
      "nbconvert_exporter": "python",
      "pygments_lexer": "ipython3",
      "version": "3.6.1"
    }
  },
  "nbformat": 4,
  "nbformat_minor": 1
}