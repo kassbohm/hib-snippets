{
  "cells": [
    {
      "cell_type": "code",
      "metadata": {},
      "source": [
        "from sympy.physics.units import *\n",
        "from sympy import *\n",
        "\n",
        "prec = 5\n",
        "\n",
        "newton = kg*m/s**2\n",
        "g = S(981)/100 *m/s**2\n",
        "\n",
        "mass, a, mu = var(\"mass, a, mu\")\n",
        "\n",
        "sub_list = [\n",
        "    (mass, 800 *kg),\n",
        "    (a, S(5)/10 *m/s**2),\n",
        "    (mu, S(1)/10),\n",
        "    ]\n",
        "\n",
        "G = mass*g\n",
        "c = sqrt(2)/2\n",
        "\n",
        "Nv, S = var(\"Nv, S\")\n",
        "eq1 = Eq(mass*a, S*c - mu*Nv)\n",
        "eq2 = Eq(G, Nv + S*c)\n",
        "sol = solve([eq1, eq2],[Nv, S])\n",
        "\n",
        "pprint(\"\\nN / Newton:\")\n",
        "Nv = sol[Nv]\n",
        "tmp = Nv\n",
        "tmp = tmp.subs(sub_list)\n",
        "tmp = tmp.simplify()\n",
        "tmp /= newton\n",
        "pprint(N(tmp,prec))\n",
        "\n",
        "pprint(\"\\nS / Newton:\")\n",
        "S = sol[S]\n",
        "tmp = S\n",
        "tmp = tmp.subs(sub_list)\n",
        "tmp = tmp.simplify()\n",
        "tmp /= newton\n",
        "pprint(N(tmp,prec))\n",
        "\n",
        "pprint(\"\\nphi / deg:\")\n",
        "phi = asin(mu * Nv / S)\n",
        "tmp = phi\n",
        "tmp = tmp.subs(sub_list)\n",
        "tmp = tmp.simplify()\n",
        "tmp = deg(tmp)\n",
        "pprint(N(tmp,prec))\n",
        "pprint(\"\\ntheta / deg:\")\n",
        "tmp = 45 - tmp\n",
        "pprint(N(tmp,prec))\n"
      ],
      "outputs": [],
      "execution_count": null
    }
  ],
  "metadata": {
    "anaconda-cloud": {},
    "kernelspec": {
      "display_name": "Python 3",
      "language": "python",
      "name": "python3"
    },
    "language_info": {
      "codemirror_mode": {
        "name": "ipython",
        "version": 3
      },
      "file_extension": ".py",
      "mimetype": "text/x-python",
      "name": "python",
      "nbconvert_exporter": "python",
      "pygments_lexer": "ipython3",
      "version": "3.6.1"
    }
  },
  "nbformat": 4,
  "nbformat_minor": 1
}