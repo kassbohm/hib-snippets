{
  "nbformat_minor": 1, 
  "nbformat": 4, 
  "cells": [
    {
      "source": [
        "l = 12 *m\n", 
        "wx = S(6)/10 /s   # w2\n", 
        "wy = 0\n", 
        "wz = S(15)/100 /s # w1\n", 
        "\n", 
        "beta = 30 *pi/180\n", 
        "\n", 
        "# Angular velocity:\n", 
        "w = Matrix([wx,wy,wz])\n", 
        "\n", 
        "# Position vector and angular acceleration:\n", 
        "(rx, ry, rz) = (0, l*cos(beta), l*sin(beta))\n", 
        "r = Matrix([rx,ry,rz])\n", 
        "\n", 
        "# Angular acceleration:\n", 
        "pprint(\"\\nw' / (1/s\u00b2):\")\n", 
        "(wxp, wyp, wzp) = (0, wz*wx, S(8)/10 /s/s)\n", 
        "wp = Matrix([wxp,wyp,wzp])\n", 
        "tmp = wp\n", 
        "tmp /= (1/s**2)\n", 
        "pprint(tmp)\n", 
        "\n", 
        "# Velocity v:\n", 
        "pprint(\"\\nv / (m/s):\")\n", 
        "v = w.cross(r)\n", 
        "vval = v / (m/s)\n", 
        "pprint(N(vval,3))\n", 
        "\n", 
        "# Acceleration a:\n", 
        "a1 = wp.cross(r)\n", 
        "a2 = w.cross(w.cross(r))\n", 
        "\n", 
        "a = a1 + a2\n", 
        "pprint(\"\\na / (m/s\u00b2):\")\n", 
        "aval = a / (m/s/s)\n", 
        "pprint(N(aval,3))\n"
      ], 
      "cell_type": "code", 
      "execution_count": null, 
      "outputs": [], 
      "metadata": {}
    }
  ], 
  "metadata": {
    "kernelspec": {
      "display_name": "Python 3", 
      "name": "python3", 
      "language": "python"
    }, 
    "language_info": {
      "mimetype": "text/x-python", 
      "nbconvert_exporter": "python", 
      "name": "python", 
      "file_extension": ".py", 
      "version": "3.6.1", 
      "pygments_lexer": "ipython3", 
      "codemirror_mode": {
        "version": 3, 
        "name": "ipython"
      }
    }, 
    "anaconda-cloud": {}
  }
}