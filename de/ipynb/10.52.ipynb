{
  "cells": [
    {
      "cell_type": "code",
      "metadata": {},
      "source": [
        "from sympy.physics.units import *\n",
        "from sympy import *\n",
        "\n",
        "newton = kg*m/s**2\n",
        "Nm = newton*m\n",
        "\n",
        "prec = 5\n",
        "\n",
        "b = 1 *m\n",
        "alpha = 6 /s**2\n",
        "mass = 250 *kg\n",
        "mu = 20 *kg/m\n",
        "\n",
        "pprint(\"\\n10.52:\")\n",
        "pprint(\"\\nJzz / (kg m\u00b2):\")\n",
        "Jzz = mass*b**2/2 + (2*b)**2*mass\n",
        "tmp = Jzz\n",
        "tmp /= kg *m**2\n",
        "pprint(N(tmp,prec))\n",
        "\n",
        "pprint(\"\\n10.53:\")\n",
        "pprint(\"\\nJzz / (kg m\u00b2):\")\n",
        "m1 = mu*(2*b)\n",
        "m2 = mu*b\n",
        "Jzz += m1*(2*b)**2/3 + m2*(2*b)**2\n",
        "tmp = Jzz\n",
        "tmp /= kg *m**2\n",
        "pprint(N(tmp,prec))\n",
        "\n",
        "pprint(\"\\nJzz wz' / (Nm):\")\n",
        "tmp = Jzz*alpha\n",
        "tmp /= Nm\n",
        "pprint(N(tmp,prec))\n",
        "\n",
        "# 10.52:\n",
        "\n",
        "# Jzz / (kg m\u00b2):\n",
        "# 1125.0\n",
        "\n",
        "# 10.53:\n",
        "#\n",
        "# Jzz / (kg m\u00b2):\n",
        "# 1258.3\n",
        "#\n",
        "# Jzz wz' / (Nm):\n",
        "# 7550.0\n"
      ],
      "outputs": [],
      "execution_count": null
    }
  ],
  "metadata": {
    "anaconda-cloud": {},
    "kernelspec": {
      "display_name": "Python 3",
      "language": "python",
      "name": "python3"
    },
    "language_info": {
      "codemirror_mode": {
        "name": "ipython",
        "version": 3
      },
      "file_extension": ".py",
      "mimetype": "text/x-python",
      "name": "python",
      "nbconvert_exporter": "python",
      "pygments_lexer": "ipython3",
      "version": "3.6.1"
    }
  },
  "nbformat": 4,
  "nbformat_minor": 1
}