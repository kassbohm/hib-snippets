{
  "nbformat_minor": 1, 
  "nbformat": 4, 
  "cells": [
    {
      "source": [
        "from sympy.physics.units import *\n", 
        "from sympy import *\n", 
        "\n", 
        "newton = kg*m/s**2\n", 
        "Nm = newton*m\n", 
        "\n", 
        "prec = 5\n", 
        "\n", 
        "b = 1 *m\n", 
        "alpha = 6 /s**2\n", 
        "mass = 250 *kg\n", 
        "mu = 20 *kg/m\n", 
        "\n", 
        "pprint(\"\\n10.52:\")\n", 
        "pprint(\"\\nJzz / (kg m\u00b2):\")\n", 
        "Jzz = mass*b**2/2 + (2*b)**2*mass\n", 
        "tmp = Jzz\n", 
        "tmp /= kg *m**2\n", 
        "pprint(N(tmp,prec))\n", 
        "\n", 
        "pprint(\"\\n10.53:\")\n", 
        "pprint(\"\\nJzz / (kg m\u00b2):\")\n", 
        "m1 = mu*(2*b)\n", 
        "m2 = mu*b\n", 
        "Jzz += m1*(2*b)**2/3 + m2*(2*b)**2\n", 
        "tmp = Jzz\n", 
        "tmp /= kg *m**2\n", 
        "pprint(N(tmp,prec))\n", 
        "\n", 
        "pprint(\"\\nJzz wz' / (Nm):\")\n", 
        "tmp = Jzz*alpha\n", 
        "tmp /= Nm\n", 
        "pprint(N(tmp,prec))\n", 
        "\n", 
        "# 10.52:\n", 
        "\n", 
        "# Jzz / (kg m\u00b2):\n", 
        "# 1125.0\n", 
        "\n", 
        "# 10.53:\n", 
        "#\n", 
        "# Jzz / (kg m\u00b2):\n", 
        "# 1258.3\n", 
        "#\n", 
        "# Jzz wz' / (Nm):\n", 
        "# 7550.0\n"
      ], 
      "cell_type": "code", 
      "execution_count": null, 
      "outputs": [], 
      "metadata": {}
    }
  ], 
  "metadata": {
    "kernelspec": {
      "display_name": "Python 3", 
      "name": "python3", 
      "language": "python"
    }, 
    "language_info": {
      "mimetype": "text/x-python", 
      "nbconvert_exporter": "python", 
      "name": "python", 
      "file_extension": ".py", 
      "version": "3.6.1", 
      "pygments_lexer": "ipython3", 
      "codemirror_mode": {
        "version": 3, 
        "name": "ipython"
      }
    }, 
    "anaconda-cloud": {}
  }
}