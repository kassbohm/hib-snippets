{
  "cells": [
    {
      "cell_type": "code",
      "metadata": {},
      "source": [
        "from sympy.physics.units import *\n",
        "from sympy import *\n",
        "\n",
        "( b, c, d ) = ( S(5)/4 *m, 1 *m, S(7)/4 *m)\n",
        "\n",
        "# Omega and Omega':\n",
        "O  = Matrix([0, 0, 5]) / s\n",
        "Op = Matrix([0, 0, 2]) / (s**2)\n",
        "w  = Matrix([0, 2, 0]) / s\n",
        "wp = Matrix([0, 1, 0]) / (s**2)\n",
        "\n",
        "dAB = Matrix([-b, 0, 0])\n",
        "dBC = Matrix([0, d, c])\n",
        "\n",
        "vB = O.cross(dAB)\n",
        "aB = Op.cross(dAB) + O.cross(O.cross(dAB))\n",
        "\n",
        "# units:\n",
        "vu = m/s\n",
        "au = m/(s**2)\n",
        "\n",
        "# precision:\n",
        "prec = 10\n",
        "\n",
        "pprint(\"\\nvB / (m/s):\")\n",
        "pprint(N(vB/vu,prec))\n",
        "pprint(\"\\naB / (m/s\u00b2):\")\n",
        "pprint(N(aB/au,prec))\n",
        "\n",
        "vCB = w.cross(dBC)\n",
        "aCB = wp.cross(dBC) + w.cross(w.cross(dBC))\n",
        "\n",
        "vC = vB + O.cross(dBC) + vCB\n",
        "aC = aB + Op.cross(dBC) + O.cross(O.cross(dBC)) + 2*O.cross(vCB) + aCB\n",
        "\n",
        "pprint(\"\\nvC / (m/s):\")\n",
        "pprint(N(vC/vu,prec))\n",
        "pprint(\"\\naC / (m/s\u00b2):\")\n",
        "pprint(N(aC/au,prec))\n"
      ],
      "outputs": [],
      "execution_count": null
    }
  ],
  "metadata": {
    "anaconda-cloud": {},
    "kernelspec": {
      "display_name": "Python 3",
      "language": "python",
      "name": "python3"
    },
    "language_info": {
      "codemirror_mode": {
        "name": "ipython",
        "version": 3
      },
      "file_extension": ".py",
      "mimetype": "text/x-python",
      "name": "python",
      "nbconvert_exporter": "python",
      "pygments_lexer": "ipython3",
      "version": "3.6.1"
    }
  },
  "nbformat": 4,
  "nbformat_minor": 1
}