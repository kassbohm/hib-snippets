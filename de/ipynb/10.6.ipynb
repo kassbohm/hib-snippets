{
  "cells": [
    {
      "cell_type": "code",
      "metadata": {},
      "source": [
        "from sympy import *\n",
        "\n",
        "# 10.6 and 10.7 solved here\n",
        "\n",
        "rho = var(\"rho\")\n",
        "x,y,z = var(\"x,y,z\")\n",
        "a, h = var(\"a, h\")\n",
        "m = var(\"m\")\n",
        "\n",
        "task = \"10.6\"\n",
        "task = \"10.7\"\n",
        "\n",
        "if task == \"10.6\":\n",
        "    i = y*z\n",
        "elif task == \"10.7\":\n",
        "    i = x*y\n",
        "\n",
        "i1 = integrate( i, (y, 0, a-x) )\n",
        "i2 = integrate( i1, (x, 0, a) )\n",
        "i3 = integrate( i2, (z, 0, h) )\n",
        "I = rho*i3\n",
        "\n",
        "if task == \"10.6\":\n",
        "    pprint(\"\\n10.6: Iyz:\")\n",
        "    pprint(I)\n",
        "\n",
        "elif task == \"10.7\":\n",
        "    pprint(\"\\n10.7: Ixy:\")\n",
        "    pprint(I)\n",
        "    I = I.subs(rho/2*a*a*h, m)\n",
        "    pprint(\"\\n\")\n",
        "    pprint(I)\n"
      ],
      "outputs": [],
      "execution_count": null
    }
  ],
  "metadata": {
    "anaconda-cloud": {},
    "kernelspec": {
      "display_name": "Python 3",
      "language": "python",
      "name": "python3"
    },
    "language_info": {
      "codemirror_mode": {
        "name": "ipython",
        "version": 3
      },
      "file_extension": ".py",
      "mimetype": "text/x-python",
      "name": "python",
      "nbconvert_exporter": "python",
      "pygments_lexer": "ipython3",
      "version": "3.6.1"
    }
  },
  "nbformat": 4,
  "nbformat_minor": 1
}