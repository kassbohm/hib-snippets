{
  "cells": [
    {
      "cell_type": "code",
      "metadata": {},
      "source": [
        "from sympy.physics.units import *\n",
        "from sympy import *\n",
        "\n",
        "prec = 3\n",
        "newton = kg*m/s**2\n",
        "g = S(981)/100 *m/s**2\n",
        "\n",
        "mass, l = var(\"mass, l\")\n",
        "\n",
        "sub_list = [\n",
        "    (mass, 4 *kg),\n",
        "    (l, 2 *m),\n",
        "    ]\n",
        "\n",
        "theta = mass*l**2/12\n",
        "\n",
        "a, alpha = var(\"a, alpha\")\n",
        "eq1 = Eq( mass*a, mass*g - mass*g / 2 )\n",
        "eq2 = Eq( theta*alpha, l*mass*g/4 )\n",
        "\n",
        "sol = solve([eq1, eq2], [a, alpha])\n",
        "a, alpha = sol[a], sol[alpha]\n",
        "\n",
        "pprint(\"\\na / (m/s\u00b2):\")\n",
        "tmp = a\n",
        "tmp = tmp.subs(sub_list)\n",
        "tmp /= m/s**2\n",
        "tmp = N(tmp,prec)\n",
        "pprint(tmp)\n",
        "\n",
        "pprint(\"\\nalpha / (1/s\u00b2):\")\n",
        "tmp = alpha\n",
        "tmp = tmp.subs(sub_list)\n",
        "tmp /= 1/s**2\n",
        "tmp = N(tmp,prec)\n",
        "pprint(tmp)\n"
      ],
      "outputs": [],
      "execution_count": null
    }
  ],
  "metadata": {
    "anaconda-cloud": {},
    "kernelspec": {
      "display_name": "Python 3",
      "language": "python",
      "name": "python3"
    },
    "language_info": {
      "codemirror_mode": {
        "name": "ipython",
        "version": 3
      },
      "file_extension": ".py",
      "mimetype": "text/x-python",
      "name": "python",
      "nbconvert_exporter": "python",
      "pygments_lexer": "ipython3",
      "version": "3.6.1"
    }
  },
  "nbformat": 4,
  "nbformat_minor": 1
}