{
  "cells": [
    {
      "cell_type": "code",
      "metadata": {},
      "source": [
        "from sympy.physics.units import *\n",
        "from sympy import *\n",
        "\n",
        "(w1, w2) = (0.6 /s, 8 /s)\n",
        "beta = 45 *pi/180\n",
        "(cb, sb) = (cos(beta), sin(beta))\n",
        "\n",
        "w = Matrix([0, w2*cb, w1 + w2*sb])\n",
        "wp = Matrix([-w1*w2*cb, 0, 0])\n",
        "\n",
        "pprint(\"\\n\u03c9 / (1/s):\")\n",
        "tmp = w\n",
        "pprint(N(tmp / (1/s),3))\n",
        "\n",
        "pprint(\"\\n\u03c9' / (1/s\u00b2):\")\n",
        "tmp = wp\n",
        "pprint(N(tmp / (1/s/s),3))\n"
      ],
      "outputs": [],
      "execution_count": null
    }
  ],
  "metadata": {
    "anaconda-cloud": {},
    "kernelspec": {
      "display_name": "Python 3",
      "language": "python",
      "name": "python3"
    },
    "language_info": {
      "codemirror_mode": {
        "name": "ipython",
        "version": 3
      },
      "file_extension": ".py",
      "mimetype": "text/x-python",
      "name": "python",
      "nbconvert_exporter": "python",
      "pygments_lexer": "ipython3",
      "version": "3.6.1"
    }
  },
  "nbformat": 4,
  "nbformat_minor": 1
}