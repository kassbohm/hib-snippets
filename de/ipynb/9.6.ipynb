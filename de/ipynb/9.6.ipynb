{
  "cells": [
    {
      "cell_type": "code",
      "metadata": {},
      "source": [
        "from sympy.physics.units import *\n",
        "from sympy import *\n",
        "\n",
        "mm = m/1000\n",
        "\n",
        "ra = 200 *mm\n",
        "rb = 50 *mm\n",
        "\n",
        "wz  = 10 /s\n",
        "wzp = 0 /s/s\n",
        "\n",
        "w = Matrix([0, -4*wz, wz])\n",
        "wp = Matrix([4*wz*wz, 0, 0])\n",
        "r = Matrix([0, ra, rb])\n",
        "\n",
        "pprint(\"\\nv / (m/s):\")\n",
        "v = w.cross(r)\n",
        "tmp = v\n",
        "pprint(N(tmp / (m/s),3))\n",
        "\n",
        "pprint(\"\\na / (m/s\u00b2):\")\n",
        "a = wp.cross(r) + w.cross(v)\n",
        "tmp = a\n",
        "pprint(N(tmp / (m/s/s),3))\n",
        "\n",
        "pprint(\"\\n|\u03c9| / (1/s):\")\n",
        "tmp = w.norm()\n",
        "pprint(N(tmp / (1/s),3))\n",
        "\n",
        "pprint(\"\\n|\u03c9'| / (1/s\u00b2):\")\n",
        "tmp = wp.norm()\n",
        "pprint(N(tmp / (1/s/s),3))\n"
      ],
      "outputs": [],
      "execution_count": null
    }
  ],
  "metadata": {
    "anaconda-cloud": {},
    "kernelspec": {
      "display_name": "Python 3",
      "language": "python",
      "name": "python3"
    },
    "language_info": {
      "codemirror_mode": {
        "name": "ipython",
        "version": 3
      },
      "file_extension": ".py",
      "mimetype": "text/x-python",
      "name": "python",
      "nbconvert_exporter": "python",
      "pygments_lexer": "ipython3",
      "version": "3.6.1"
    }
  },
  "nbformat": 4,
  "nbformat_minor": 1
}