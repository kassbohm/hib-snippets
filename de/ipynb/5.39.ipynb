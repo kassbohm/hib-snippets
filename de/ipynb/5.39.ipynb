{
  "nbformat_minor": 1, 
  "nbformat": 4, 
  "cells": [
    {
      "source": [
        "from sympy.physics.units import *\n", 
        "from sympy import *\n", 
        "\n", 
        "r = S(3)/10 *meter\n", 
        "v = 2 * meter/second\n", 
        "a = 3 * meter/second/second\n", 
        "\n", 
        "c1, s1 = cos(50 *degrees), sin(50 *degrees)\n", 
        "\n", 
        "omega = v/(r*s1)\n", 
        "alpha = 1/s1*(a/r - omega**2*c1)\n", 
        "\n", 
        "pprint(\"\\nomega:\")\n", 
        "tmp = omega\n", 
        "pprint(N(tmp,3))\n", 
        "\n", 
        "pprint(\"\\nalpha:\")\n", 
        "tmp = alpha\n", 
        "pprint(N(tmp,3))\n", 
        "\n", 
        "# omega:\n", 
        "# 8.7\n", 
        "# \u2500\u2500\u2500\n", 
        "#  s\n", 
        "#\n", 
        "# alpha:\n", 
        "# -50.5\n", 
        "# \u2500\u2500\u2500\u2500\u2500\u2500\n", 
        "#    2\n", 
        "#   s\n"
      ], 
      "cell_type": "code", 
      "execution_count": null, 
      "outputs": [], 
      "metadata": {}
    }
  ], 
  "metadata": {
    "kernelspec": {
      "display_name": "Python 3", 
      "name": "python3", 
      "language": "python"
    }, 
    "language_info": {
      "mimetype": "text/x-python", 
      "nbconvert_exporter": "python", 
      "name": "python", 
      "file_extension": ".py", 
      "version": "3.6.1", 
      "pygments_lexer": "ipython3", 
      "codemirror_mode": {
        "version": 3, 
        "name": "ipython"
      }
    }, 
    "anaconda-cloud": {}
  }
}