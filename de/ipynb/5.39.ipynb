{
  "nbformat_minor": 1, 
  "nbformat": 4, 
  "cells": [
    {
      "source": [
        "from sympy.physics.units import *\n", 
        "from sympy import *\n", 
        "\n", 
        "prec = 4\n", 
        "\n", 
        "r = 3*m/10\n", 
        "v = 2 * m/s\n", 
        "a = 3 * m/s**2\n", 
        "\n", 
        "p1 = rad(50)\n", 
        "p1 = 50*pi/180\n", 
        "c1 = cos(p1)\n", 
        "s1 = sin(p1)\n", 
        "\n", 
        "omega = v/(r*s1)\n", 
        "pprint(\"\\nomega / (1/s):\")\n", 
        "tmp = omega\n", 
        "tmp /= 1/s\n", 
        "pprint(N(tmp,prec))\n", 
        "\n", 
        "\n", 
        "pprint(\"\\nalpha / (1/s\u00b2):\")\n", 
        "alpha  = N(a/r)\n", 
        "alpha -= N(omega**2*c1)\n", 
        "alpha /= s1\n", 
        "tmp = alpha\n", 
        "tmp /= (1/s**2)\n", 
        "pprint(N(tmp,prec))\n"
      ], 
      "cell_type": "code", 
      "execution_count": null, 
      "outputs": [], 
      "metadata": {}
    }
  ], 
  "metadata": {
    "kernelspec": {
      "display_name": "Python 3", 
      "name": "python3", 
      "language": "python"
    }, 
    "language_info": {
      "mimetype": "text/x-python", 
      "nbconvert_exporter": "python", 
      "name": "python", 
      "file_extension": ".py", 
      "version": "3.6.1", 
      "pygments_lexer": "ipython3", 
      "codemirror_mode": {
        "version": 3, 
        "name": "ipython"
      }
    }, 
    "anaconda-cloud": {}
  }
}