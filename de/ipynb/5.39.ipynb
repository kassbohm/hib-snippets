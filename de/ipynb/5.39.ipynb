{
  "cells": [
    {
      "cell_type": "code",
      "metadata": {},
      "source": [
        "from sympy.physics.units import *\n",
        "from sympy import *\n",
        "from mpmath import radians\n",
        "\n",
        "prec = 4\n",
        "\n",
        "r = 3 * m/10\n",
        "v = 2 * m/s\n",
        "a = 3 * m/s**2\n",
        "\n",
        "p1 = radians(50)\n",
        "(c1, s1) = (cos(p1), sin(p1))\n",
        "\n",
        "pprint(\"\\n\u03c9 / (1/s):\")\n",
        "w = v/(r*s1)\n",
        "tmp = w\n",
        "tmp /= 1/s\n",
        "pprint(N(tmp,prec))\n",
        "\n",
        "pprint(\"\\n\u03b1 / (1/s\u00b2):\")\n",
        "tmp  = (a/r - w*w*c1)/s1\n",
        "tmp /= (1/s**2)\n",
        "pprint(N(tmp,prec))\n"
      ],
      "outputs": [],
      "execution_count": null
    }
  ],
  "metadata": {
    "anaconda-cloud": {},
    "kernelspec": {
      "display_name": "Python 3",
      "language": "python",
      "name": "python3"
    },
    "language_info": {
      "codemirror_mode": {
        "name": "ipython",
        "version": 3
      },
      "file_extension": ".py",
      "mimetype": "text/x-python",
      "name": "python",
      "nbconvert_exporter": "python",
      "pygments_lexer": "ipython3",
      "version": "3.6.1"
    }
  },
  "nbformat": 4,
  "nbformat_minor": 1
}