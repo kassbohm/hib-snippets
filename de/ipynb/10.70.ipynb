{
  "cells": [
    {
      "cell_type": "code",
      "metadata": {},
      "source": [
        "from sympy.physics.units import *\n",
        "from sympy import *\n",
        "\n",
        "newton = kg*m/s**2\n",
        "g = 981 *m/s**2 / 100\n",
        "\n",
        "G = 8 * newton\n",
        "r = S(3)/10 *meter\n",
        "l = S(5)/10 *meter\n",
        "ws = 300 / second\n",
        "\n",
        "theta = S(40)*pi/180\n",
        "# Solve numerically:\n",
        "theta = N(theta)\n",
        "\n",
        "wp = var(\"omega_p\")\n",
        "\n",
        "c, s = cos(theta), sin(theta)\n",
        "\n",
        "m = G/g\n",
        "\n",
        "J = m*r*r/4 + l*l*m\n",
        "Jz = m*r*r/2\n",
        "\n",
        "tmp = J / kilogram/meter/meter\n",
        "pprint(\"\\nJ / (kg m\u00b2): \")\n",
        "pprint(N(tmp,3))\n",
        "\n",
        "# Terms in equation divided by sin(theta):\n",
        "t1 = G * l\n",
        "t2 = - J *wp*wp *c\n",
        "t3 = Jz * wp *(wp*c + ws)\n",
        "\n",
        "sol = solve(t1 - (t2 + t3))\n",
        "pprint(\"\\nSolutions for wp:\")\n",
        "pprint(sol)\n",
        "\n",
        "# J / (kg m\u00b2):\n",
        "# 0.222\n",
        "#\n",
        "# Solutions for wp:\n",
        "# \u23a10.365053676362308  77.098675580718\u23a4\n",
        "# \u23a2\u2500\u2500\u2500\u2500\u2500\u2500\u2500\u2500\u2500\u2500\u2500\u2500\u2500\u2500\u2500\u2500\u2500, \u2500\u2500\u2500\u2500\u2500\u2500\u2500\u2500\u2500\u2500\u2500\u2500\u2500\u2500\u2500\u23a5\n",
        "# \u23a3      second            second    \u23a6\n"
      ],
      "outputs": [],
      "execution_count": null
    }
  ],
  "metadata": {
    "anaconda-cloud": {},
    "kernelspec": {
      "display_name": "Python 3",
      "language": "python",
      "name": "python3"
    },
    "language_info": {
      "codemirror_mode": {
        "name": "ipython",
        "version": 3
      },
      "file_extension": ".py",
      "mimetype": "text/x-python",
      "name": "python",
      "nbconvert_exporter": "python",
      "pygments_lexer": "ipython3",
      "version": "3.6.1"
    }
  },
  "nbformat": 4,
  "nbformat_minor": 1
}