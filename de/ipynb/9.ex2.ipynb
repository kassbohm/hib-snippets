{
  "cells": [
    {
      "cell_type": "code",
      "metadata": {},
      "source": [
        "from sympy.physics.units import *\n",
        "from sympy import *\n",
        "\n",
        "(wS, wSp) = ( 10 /s, 6 /s**2 )\n",
        "(wN, wNp) = (  3 /s, 2 /s**2 )\n",
        "(wP, wPp) = (  5 /s, 4 /s**2 )\n",
        "\n",
        "theta = 60 *pi/180\n",
        "(ct, st) = (cos(theta), sin(theta))\n",
        "\n",
        "w = Matrix([-wN, wS*st, wP + wS*ct])\n",
        "\n",
        "pprint(\"\\n\u03c9 / (1/s):\")\n",
        "tmp = w / (1/s)\n",
        "pprint(N(tmp,3))\n",
        "\n",
        "wp  = Matrix([-wNp, wSp*st, wSp*ct + wPp])\n",
        "O = Matrix([-wN, 0, wP])\n",
        "wp += O.cross(w) + O.cross(Matrix([-wN, 0, 0]))\n",
        "\n",
        "pprint(\"\\n\u03c9' / (1/s\u00b2):\")\n",
        "tmp = wp / (1/s/s)\n",
        "pprint(N(tmp,3))\n",
        "\n",
        "# \u03c9 / (1/s):\n",
        "# \u23a1-3.0\u23a4\n",
        "# \u23a2    \u23a5\n",
        "# \u23a28.66\u23a5\n",
        "# \u23a2    \u23a5\n",
        "# \u23a310.0\u23a6\n",
        "#\n",
        "# \u03c9' / (1/s\u00b2):\n",
        "# \u23a1-45.3\u23a4\n",
        "# \u23a2     \u23a5\n",
        "# \u23a2 5.2 \u23a5\n",
        "# \u23a2     \u23a5\n",
        "# \u23a3-19.0\u23a6\n"
      ],
      "outputs": [],
      "execution_count": null
    }
  ],
  "metadata": {
    "anaconda-cloud": {},
    "kernelspec": {
      "display_name": "Python 3",
      "language": "python",
      "name": "python3"
    },
    "language_info": {
      "codemirror_mode": {
        "name": "ipython",
        "version": 3
      },
      "file_extension": ".py",
      "mimetype": "text/x-python",
      "name": "python",
      "nbconvert_exporter": "python",
      "pygments_lexer": "ipython3",
      "version": "3.6.1"
    }
  },
  "nbformat": 4,
  "nbformat_minor": 1
}