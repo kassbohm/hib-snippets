{
  "cells": [
    {
      "cell_type": "code",
      "metadata": {},
      "source": [
        "from sympy.physics.units import *\n",
        "from sympy import *\n",
        "\n",
        "mA, mB, S, mu, g = var(\"mA, mB, S, mu, g\")\n",
        "sA, v0 = var(\"sA, v0\")\n",
        "\n",
        "sub_list=[\n",
        "    (mA, 100*newton / (9.81 *(m/s/s) ) ),\n",
        "    (mB, 200*newton / (9.81 *(m/s/s) ) ),\n",
        "    (mu, 0.2),\n",
        "    (g, 9.81 *(m/s/s) ),\n",
        "    (v0, 1 *m/s),\n",
        "    (sA, 2 *m),\n",
        "]\n",
        "\n",
        "# a = x'':\n",
        "a, t = var(\"a, t\", positive=True)\n",
        "\n",
        "eq1 = Eq(mA * 2*a, S - mu*mA*g )\n",
        "eq2 = Eq(mB * a, -2*S + mB*g )\n",
        "\n",
        "\n",
        "sol = solve([eq1, eq2],[S,a])\n",
        "\n",
        "pprint(sol)\n",
        "\n",
        "aA = 2*sol[a]\n",
        "\n",
        "# \u23a7   g\u22c5mA\u22c5mB\u22c5(\u03bc + 2)     -g\u22c5(2\u22c5mA\u22c5\u03bc - mB) \u23ab\n",
        "# \u23a8S: \u2500\u2500\u2500\u2500\u2500\u2500\u2500\u2500\u2500\u2500\u2500\u2500\u2500\u2500\u2500, a: \u2500\u2500\u2500\u2500\u2500\u2500\u2500\u2500\u2500\u2500\u2500\u2500\u2500\u2500\u2500\u2500\u2500\u23ac\n",
        "# \u23a9      4\u22c5mA + mB            4\u22c5mA + mB    \u23ad\n",
        "\n",
        "eq = Eq(sA, aA*t*t/2 + v0*t)\n",
        "\n",
        "sol = solve(eq, t)\n",
        "t = sol[0]\n",
        "t = t.simplify()\n",
        "t = t.subs(sub_list)\n",
        "\n",
        "v = aA * t + v0\n",
        "v = v.subs(sub_list)\n",
        "pprint(\"\\nvA / (m/s):\")\n",
        "tmp = v/(m/s)\n",
        "pprint(N(tmp,3))\n",
        "\n",
        "# \u23a7   g\u22c5mA\u22c5mB\u22c5(\u03bc + 2)     -g\u22c5(2\u22c5mA\u22c5\u03bc - mB) \u23ab\n",
        "# \u23a8S: \u2500\u2500\u2500\u2500\u2500\u2500\u2500\u2500\u2500\u2500\u2500\u2500\u2500\u2500\u2500, a: \u2500\u2500\u2500\u2500\u2500\u2500\u2500\u2500\u2500\u2500\u2500\u2500\u2500\u2500\u2500\u2500\u2500\u23ac\n",
        "# \u23a9      4\u22c5mA + mB            4\u22c5mA + mB    \u23ad\n",
        "#\n",
        "# vA / (m/s):\n",
        "# 4.68\n"
      ],
      "outputs": [],
      "execution_count": null
    }
  ],
  "metadata": {
    "anaconda-cloud": {},
    "kernelspec": {
      "display_name": "Python 3",
      "language": "python",
      "name": "python3"
    },
    "language_info": {
      "codemirror_mode": {
        "name": "ipython",
        "version": 3
      },
      "file_extension": ".py",
      "mimetype": "text/x-python",
      "name": "python",
      "nbconvert_exporter": "python",
      "pygments_lexer": "ipython3",
      "version": "3.6.1"
    }
  },
  "nbformat": 4,
  "nbformat_minor": 1
}