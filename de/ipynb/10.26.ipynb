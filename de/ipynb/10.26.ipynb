{
  "cells": [
    {
      "cell_type": "code",
      "metadata": {},
      "source": [
        "from sympy.physics.units import *\n",
        "from sympy import *\n",
        "\n",
        "m, h, r = var(\"m, h, r\")\n",
        "\n",
        "xi = 3*h/4\n",
        "\n",
        "Iy = 3*m/20*(r*r + 4*h*h)\n",
        "\n",
        "pprint(\"\\nIyS\")\n",
        "IyS = Iy - xi*xi*m\n",
        "tmp = IyS\n",
        "tmp = tmp.simplify()\n",
        "pprint(tmp)\n"
      ],
      "outputs": [],
      "execution_count": null
    }
  ],
  "metadata": {
    "anaconda-cloud": {},
    "kernelspec": {
      "display_name": "Python 3",
      "language": "python",
      "name": "python3"
    },
    "language_info": {
      "codemirror_mode": {
        "name": "ipython",
        "version": 3
      },
      "file_extension": ".py",
      "mimetype": "text/x-python",
      "name": "python",
      "nbconvert_exporter": "python",
      "pygments_lexer": "ipython3",
      "version": "3.6.1"
    }
  },
  "nbformat": 4,
  "nbformat_minor": 1
}