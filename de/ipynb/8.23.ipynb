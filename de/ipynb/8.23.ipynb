{
  "cells": [
    {
      "cell_type": "code",
      "metadata": {},
      "source": [
        "from sympy.physics.units import *\n",
        "from sympy import *\n",
        "\n",
        "g = 981*m/s**2/100\n",
        "newton = kg*m/s**2\n",
        "\n",
        "(r, R) = ( 0.1 *m, 0.2 *m)\n",
        "G = 300 *newton\n",
        "(mass, Mass) = (10 *kg, G / g)\n",
        "J = (0.13 *m)**2 * Mass\n",
        "\n",
        "# (X, x, p) = (X'', x'', phi'')\n",
        "X, x, p, H, S = var(\"X, x, p, H, S \")\n",
        "\n",
        "e1 = Eq(X, r*p)\n",
        "e2 = Eq(x, (r+R)*p)\n",
        "e3 = Eq(mass*x, mass*g - S)\n",
        "e4 = Eq(Mass*X, S - H)\n",
        "e5 = Eq(J*p, R*S + r*H)\n",
        "\n",
        "sol = solve([e1,e2,e3,e4,e5], [X, x, p, H, S])\n",
        "x = sol[x]\n",
        "\n",
        "pprint(\"\\nx''/ (m/s\u00b2):\")\n",
        "tmp = x\n",
        "tmp /= m/s**2\n",
        "pprint(N(tmp,3))\n",
        "\n",
        "pprint(\"\\nx'(2 s) / (m/s):\")\n",
        "v = x* 2*s\n",
        "tmp = v\n",
        "tmp /= m/s\n",
        "pprint(N(tmp,3))\n",
        "\n",
        "# (X, x, p) = (X', x', phi')\n",
        "X, x, p, H, S = var(\"X, x, p, H, S \")\n",
        "\n",
        "t = 2*s\n",
        "e1 = Eq(X, r*p)\n",
        "e2 = Eq(x, (r+R)*p)\n",
        "e3 = Eq(mass*x, (mass*g - S)*t)\n",
        "e4 = Eq(Mass*X, (S - H)*t)\n",
        "e5 = Eq(J*p, (R*S + r*H)*t)\n",
        "\n",
        "sol = solve([e1,e2,e3,e4,e5], [X, x, p, H, S])\n",
        "\n",
        "x = sol[x]\n",
        "pprint(\"\\nx'(2 s) / (m/s):\")\n",
        "tmp = x\n",
        "tmp /= m/s\n",
        "pprint(N(tmp,3))\n"
      ],
      "outputs": [],
      "execution_count": null
    }
  ],
  "metadata": {
    "anaconda-cloud": {},
    "kernelspec": {
      "display_name": "Python 3",
      "language": "python",
      "name": "python3"
    },
    "language_info": {
      "codemirror_mode": {
        "name": "ipython",
        "version": 3
      },
      "file_extension": ".py",
      "mimetype": "text/x-python",
      "name": "python",
      "nbconvert_exporter": "python",
      "pygments_lexer": "ipython3",
      "version": "3.6.1"
    }
  },
  "nbformat": 4,
  "nbformat_minor": 1
}