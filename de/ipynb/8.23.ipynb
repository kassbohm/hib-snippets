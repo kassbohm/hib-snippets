{
  "nbformat_minor": 1, 
  "nbformat": 4, 
  "cells": [
    {
      "source": [
        "from sympy.physics.units import *\n", 
        "from sympy import *\n", 
        "\n", 
        "g = 981*m/s**2/100\n", 
        "newton = kg*m/s**2\n", 
        "\n", 
        "(r, R) = ( 0.1 *m, 0.2 *m)\n", 
        "G = 300 *newton\n", 
        "(mass, Mass) = (10 *kg, G / g)\n", 
        "J = (0.13 *m)**2 * Mass\n", 
        "\n", 
        "# (X, x, p) = (X'', x'', phi'')\n", 
        "X, x, p, H, S = var(\"X, x, p, H, S \")\n", 
        "\n", 
        "e1 = Eq(X, r*p)\n", 
        "e2 = Eq(x, (r+R)*p)\n", 
        "e3 = Eq(mass*x, mass*g - S)\n", 
        "e4 = Eq(Mass*X, S - H)\n", 
        "e5 = Eq(J*p, R*S + r*H)\n", 
        "\n", 
        "sol = solve([e1,e2,e3,e4,e5], [X, x, p, H, S])\n", 
        "x = sol[x]\n", 
        "\n", 
        "pprint(\"\\nx''/ (m/s\u00b2):\")\n", 
        "tmp = x\n", 
        "tmp /= m/s**2\n", 
        "pprint(N(tmp,3))\n", 
        "\n", 
        "pprint(\"\\nx'(2 s) / (m/s):\")\n", 
        "v = x* 2*s\n", 
        "tmp = v\n", 
        "tmp /= m/s\n", 
        "pprint(N(tmp,3))\n", 
        "\n", 
        "# (X, x, p) = (X', x', phi')\n", 
        "X, x, p, H, S = var(\"X, x, p, H, S \")\n", 
        "\n", 
        "t = 2*s\n", 
        "e1 = Eq(X, r*p)\n", 
        "e2 = Eq(x, (r+R)*p)\n", 
        "e3 = Eq(mass*x, (mass*g - S)*t)\n", 
        "e4 = Eq(Mass*X, (S - H)*t)\n", 
        "e5 = Eq(J*p, (R*S + r*H)*t)\n", 
        "\n", 
        "sol = solve([e1,e2,e3,e4,e5], [X, x, p, H, S])\n", 
        "\n", 
        "x = sol[x]\n", 
        "pprint(\"\\nx'(2 s) / (m/s):\")\n", 
        "tmp = x\n", 
        "tmp /= m/s\n", 
        "pprint(N(tmp,3))\n"
      ], 
      "cell_type": "code", 
      "execution_count": null, 
      "outputs": [], 
      "metadata": {}
    }
  ], 
  "metadata": {
    "kernelspec": {
      "display_name": "Python 3", 
      "name": "python3", 
      "language": "python"
    }, 
    "language_info": {
      "mimetype": "text/x-python", 
      "nbconvert_exporter": "python", 
      "name": "python", 
      "file_extension": ".py", 
      "version": "3.6.1", 
      "pygments_lexer": "ipython3", 
      "codemirror_mode": {
        "version": 3, 
        "name": "ipython"
      }
    }, 
    "anaconda-cloud": {}
  }
}