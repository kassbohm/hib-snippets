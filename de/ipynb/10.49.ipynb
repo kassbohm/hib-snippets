{
  "nbformat_minor": 1, 
  "nbformat": 4, 
  "cells": [
    {
      "source": [
        "from sympy.physics.units import *\n", 
        "from sympy import *\n", 
        "\n", 
        "prec = 5\n", 
        "\n", 
        "(b, c, d) = (0.5 *m , 0.3 *m, 0.4 *m)\n", 
        "mu = 1.5 *kg/m\n", 
        "\n", 
        "pprint(\"\\nJxy / (kg m\u00b2):\")\n", 
        "Jxy = - mu*b*d**2/2\n", 
        "tmp = Jxy\n", 
        "tmp /= kg *m**2\n", 
        "pprint(N(tmp,prec))\n", 
        "\n", 
        "pprint(\"\\nJyz / (kg m\u00b2):\")\n", 
        "Jyz = - mu*(b+c)*c**2/2\n", 
        "tmp = Jyz\n", 
        "tmp /= kg *m**2\n", 
        "pprint(N(tmp,prec))\n", 
        "\n", 
        "pprint(\"\\nJyy / (kg m\u00b2):\")\n", 
        "Jyy = mu/3*(d**3 + c**3)\n", 
        "tmp = Jyy\n", 
        "tmp /= kg *m**2\n", 
        "pprint(N(tmp,prec))\n", 
        "\n", 
        "# Jxy / (kg m\u00b2):\n", 
        "# -0.060000\n", 
        "#\n", 
        "# Jyz / (kg m\u00b2):\n", 
        "# -0.054000\n", 
        "#\n", 
        "# Jyy / (kg m\u00b2):\n", 
        "# 0.045500\n"
      ], 
      "cell_type": "code", 
      "execution_count": null, 
      "outputs": [], 
      "metadata": {}
    }
  ], 
  "metadata": {
    "kernelspec": {
      "display_name": "Python 3", 
      "name": "python3", 
      "language": "python"
    }, 
    "language_info": {
      "mimetype": "text/x-python", 
      "nbconvert_exporter": "python", 
      "name": "python", 
      "file_extension": ".py", 
      "version": "3.6.1", 
      "pygments_lexer": "ipython3", 
      "codemirror_mode": {
        "version": 3, 
        "name": "ipython"
      }
    }, 
    "anaconda-cloud": {}
  }
}