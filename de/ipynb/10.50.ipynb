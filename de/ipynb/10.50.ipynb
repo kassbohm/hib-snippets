{
  "cells": [
    {
      "cell_type": "code",
      "metadata": {},
      "source": [
        "from sympy.physics.units import *\n",
        "from sympy import *\n",
        "\n",
        "prec = 5\n",
        "\n",
        "(b, c, d) = (0.5 *m , 0.3 *m, 0.4 *m)\n",
        "mu = 1.5 *kg/m\n",
        "\n",
        "pprint(\"\\nJxy / (kg m\u00b2):\")\n",
        "Jxy = - mu*b*d**2/2\n",
        "tmp = Jxy\n",
        "tmp /= kg *m**2\n",
        "pprint(N(tmp,prec))\n",
        "\n",
        "pprint(\"\\nJyz / (kg m\u00b2):\")\n",
        "Jyz = - mu*(b+c)*c**2/2\n",
        "tmp = Jyz\n",
        "tmp /= kg *m**2\n",
        "pprint(N(tmp,prec))\n",
        "\n",
        "pprint(\"\\nJyy / (kg m\u00b2):\")\n",
        "Jyy = mu/3*(d**3 + c**3)\n",
        "tmp = Jyy\n",
        "tmp /= kg *m**2\n",
        "pprint(N(tmp,prec))\n",
        "\n",
        "# Jxy / (kg m\u00b2):\n",
        "# -0.060000\n",
        "#\n",
        "# Jyz / (kg m\u00b2):\n",
        "# -0.054000\n",
        "#\n",
        "# Jyy / (kg m\u00b2):\n",
        "# 0.045500\n"
      ],
      "outputs": [],
      "execution_count": null
    }
  ],
  "metadata": {
    "anaconda-cloud": {},
    "kernelspec": {
      "display_name": "Python 3",
      "language": "python",
      "name": "python3"
    },
    "language_info": {
      "codemirror_mode": {
        "name": "ipython",
        "version": 3
      },
      "file_extension": ".py",
      "mimetype": "text/x-python",
      "name": "python",
      "nbconvert_exporter": "python",
      "pygments_lexer": "ipython3",
      "version": "3.6.1"
    }
  },
  "nbformat": 4,
  "nbformat_minor": 1
}