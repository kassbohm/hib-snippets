{
  "nbformat_minor": 1, 
  "nbformat": 4, 
  "cells": [
    {
      "source": [
        "from sympy.physics.units import *\n", 
        "from sympy import *\n", 
        "\n", 
        "# solution as in book - except definition of alpha:\n", 
        "# here: alpha between z and rod\n", 
        "# Hibbeler: alpha between y and rod\n", 
        "\n", 
        "# Given:\n", 
        "# r can also be computed from l and alpha, but:\n", 
        "l, alpha, m, r = var(\"l, alpha, m, r\")\n", 
        "\n", 
        "# phi and phi':\n", 
        "phi, phi1 = var(\"phi, phi1\")\n", 
        "\n", 
        "ca, sa = cos(alpha), sin(alpha)\n", 
        "\n", 
        "# kinetic energy:\n", 
        "# translation:\n", 
        "vMx = l*phi1*sa*ca\n", 
        "T1 = m*vMx*vMx/2\n", 
        "\n", 
        "# rotation:\n", 
        "w = phi1*sa\n", 
        "wi = 0\n", 
        "wj = w*sa\n", 
        "wk = - w*ca\n", 
        "\n", 
        "J = m*r*r\n", 
        "Ji = J/4\n", 
        "Jj = J/2\n", 
        "Jk = J/4\n", 
        "\n", 
        "T2 = ( Ji*wi*wi + Jj*wj*wj + Jk*wk*wk ) / 2\n", 
        "\n", 
        "# total:\n", 
        "T = T1 + T2\n", 
        "pprint(T)\n", 
        "\n", 
        "dTdp1 = diff(T,phi1)\n", 
        "tmp = dTdp1/phi1/m\n", 
        "tmp = tmp.simplify()\n", 
        "pprint(tmp)\n"
      ], 
      "cell_type": "code", 
      "execution_count": null, 
      "outputs": [], 
      "metadata": {}
    }
  ], 
  "metadata": {
    "kernelspec": {
      "display_name": "Python 3", 
      "name": "python3", 
      "language": "python"
    }, 
    "language_info": {
      "mimetype": "text/x-python", 
      "nbconvert_exporter": "python", 
      "name": "python", 
      "file_extension": ".py", 
      "version": "3.6.1", 
      "pygments_lexer": "ipython3", 
      "codemirror_mode": {
        "version": 3, 
        "name": "ipython"
      }
    }, 
    "anaconda-cloud": {}
  }
}