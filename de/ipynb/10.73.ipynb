{
  "cells": [
    {
      "cell_type": "code",
      "metadata": {},
      "source": [
        "from sympy.physics.units import *\n",
        "from sympy import *\n",
        "\n",
        "prec = 3\n",
        "g  = S(981)/100 *m/s**2\n",
        "grams = kg/1000\n",
        "mm = m/1000\n",
        "\n",
        "mass = 200 *grams\n",
        "d = 30 *mm\n",
        "k = 20 *mm\n",
        "wP = 2 /s\n",
        "\n",
        "Jzz = mass*k**2\n",
        "\n",
        "wR = mass*g*d/(Jzz*wP)\n",
        "\n",
        "pprint(\"\\nwR / (1/s):\")\n",
        "tmp = wR\n",
        "tmp /= (1/s)\n",
        "tmp = N(tmp,prec)\n",
        "pprint(tmp)\n",
        "\n",
        "# wR / (1/s):\n",
        "# 368.\n"
      ],
      "outputs": [],
      "execution_count": null
    }
  ],
  "metadata": {
    "anaconda-cloud": {},
    "kernelspec": {
      "display_name": "Python 3",
      "language": "python",
      "name": "python3"
    },
    "language_info": {
      "codemirror_mode": {
        "name": "ipython",
        "version": 3
      },
      "file_extension": ".py",
      "mimetype": "text/x-python",
      "name": "python",
      "nbconvert_exporter": "python",
      "pygments_lexer": "ipython3",
      "version": "3.6.1"
    }
  },
  "nbformat": 4,
  "nbformat_minor": 1
}