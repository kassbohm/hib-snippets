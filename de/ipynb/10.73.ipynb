{
  "nbformat_minor": 1, 
  "nbformat": 4, 
  "cells": [
    {
      "source": [
        "from sympy.physics.units import *\n", 
        "from sympy import *\n", 
        "\n", 
        "prec = 3\n", 
        "g  = S(981)/100 *m/s**2\n", 
        "grams = kg/1000\n", 
        "mm = m/1000\n", 
        "\n", 
        "mass = 200 *grams\n", 
        "d = 30 *mm\n", 
        "k = 20 *mm\n", 
        "wP = 2 /s\n", 
        "\n", 
        "Jzz = mass*k**2\n", 
        "\n", 
        "wR = mass*g*d/(Jzz*wP)\n", 
        "\n", 
        "pprint(\"\\nwR / (1/s):\")\n", 
        "tmp = wR\n", 
        "tmp /= (1/s)\n", 
        "tmp = N(tmp,prec)\n", 
        "pprint(tmp)\n", 
        "\n", 
        "# wR / (1/s):\n", 
        "# 368.\n"
      ], 
      "cell_type": "code", 
      "execution_count": null, 
      "outputs": [], 
      "metadata": {}
    }
  ], 
  "metadata": {
    "kernelspec": {
      "display_name": "Python 3", 
      "name": "python3", 
      "language": "python"
    }, 
    "language_info": {
      "mimetype": "text/x-python", 
      "nbconvert_exporter": "python", 
      "name": "python", 
      "file_extension": ".py", 
      "version": "3.6.1", 
      "pygments_lexer": "ipython3", 
      "codemirror_mode": {
        "version": 3, 
        "name": "ipython"
      }
    }, 
    "anaconda-cloud": {}
  }
}