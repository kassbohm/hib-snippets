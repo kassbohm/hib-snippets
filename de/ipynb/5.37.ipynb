{
  "cells": [
    {
      "cell_type": "code",
      "metadata": {},
      "source": [
        "from sympy.physics.units import *\n",
        "from sympy import *\n",
        "\n",
        "r, R, phi, omega = var(\"r, R, phi, omega\")\n",
        "\n",
        "cp, sp = cos(phi), sin(phi)\n",
        "\n",
        "xC, yC = R*cp, R*sp\n",
        "\n",
        "s = sqrt((r+R)**2 - yC**2)\n",
        "\n",
        "xD = xC + s\n",
        "\n",
        "pprint(\"\\nSolution Kai:\")\n",
        "pprint(\"\\nvD / w R:\")\n",
        "tmp = diff(xD, phi)*omega\n",
        "tmp /= omega*R\n",
        "tmp = tmp.simplify()\n",
        "pprint(tmp)\n",
        "\n",
        "pprint(\"\\nHibbeler's solution is identical:\")\n",
        "pprint(\"\\nvD / w R:\")\n",
        "tmp = - R*R*omega*sin(2*phi)\n",
        "tmp /= 2*sqrt(R*R*cp*cp + r*r+2*r*R)\n",
        "tmp -= R*omega*sp\n",
        "tmp /= omega*R\n",
        "tmp = tmp.simplify()\n",
        "pprint(tmp)\n",
        "\n",
        "# Solution Kai:\n",
        "#\n",
        "# vD / w R:\n",
        "#               \u221a2\u22c5R\u22c5sin(2\u22c5\u03c6)\n",
        "# - \u2500\u2500\u2500\u2500\u2500\u2500\u2500\u2500\u2500\u2500\u2500\u2500\u2500\u2500\u2500\u2500\u2500\u2500\u2500\u2500\u2500\u2500\u2500\u2500\u2500\u2500\u2500\u2500\u2500\u2500\u2500\u2500\u2500\u2500\u2500\u2500\u2500\u2500 - sin(\u03c6)\n",
        "#        _________________________________\n",
        "#       \u2571  2             2              2\n",
        "#   2\u22c5\u2572\u2571  R \u22c5cos(2\u22c5\u03c6) + R  + 4\u22c5R\u22c5r + 2\u22c5r\n",
        "#\n",
        "# Hibbeler's solution is identical:\n",
        "#\n",
        "# vD / w R:\n",
        "#               \u221a2\u22c5R\u22c5sin(2\u22c5\u03c6)\n",
        "# - \u2500\u2500\u2500\u2500\u2500\u2500\u2500\u2500\u2500\u2500\u2500\u2500\u2500\u2500\u2500\u2500\u2500\u2500\u2500\u2500\u2500\u2500\u2500\u2500\u2500\u2500\u2500\u2500\u2500\u2500\u2500\u2500\u2500\u2500\u2500\u2500\u2500\u2500 - sin(\u03c6)\n",
        "#        _________________________________\n",
        "#       \u2571  2             2              2\n",
        "#   2\u22c5\u2572\u2571  R \u22c5cos(2\u22c5\u03c6) + R  + 4\u22c5R\u22c5r + 2\u22c5r\n"
      ],
      "outputs": [],
      "execution_count": null
    }
  ],
  "metadata": {
    "anaconda-cloud": {},
    "kernelspec": {
      "display_name": "Python 3",
      "language": "python",
      "name": "python3"
    },
    "language_info": {
      "codemirror_mode": {
        "name": "ipython",
        "version": 3
      },
      "file_extension": ".py",
      "mimetype": "text/x-python",
      "name": "python",
      "nbconvert_exporter": "python",
      "pygments_lexer": "ipython3",
      "version": "3.6.1"
    }
  },
  "nbformat": 4,
  "nbformat_minor": 1
}