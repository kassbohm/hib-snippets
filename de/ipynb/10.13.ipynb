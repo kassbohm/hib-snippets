{
  "cells": [
    {
      "cell_type": "code",
      "metadata": {},
      "source": [
        "from sympy.physics.units import *\n",
        "from sympy import *\n",
        "\n",
        "prec = 3\n",
        "\n",
        "newton = kg*m/s**2\n",
        "\n",
        "a = 0.3 *m\n",
        "qG = 25 *newton/m\n",
        "g = 9.81 *m/s/s\n",
        "\n",
        "pprint(\"\\nmass / kg:\")\n",
        "G = a*qG\n",
        "mass = G/g\n",
        "tmp = mass\n",
        "tmp /= kg\n",
        "pprint(N(tmp,prec))\n",
        "\n",
        "pprint(\"\\nx-coord of centroid / m:\")\n",
        "(xS, yS) = (-2*a/3, a/2)\n",
        "tmp = xS\n",
        "tmp /= m\n",
        "pprint(N(tmp,prec))\n",
        "\n",
        "pprint(\"\\ny-coord of centroid / m:\")\n",
        "tmp = yS\n",
        "tmp /= m\n",
        "pprint(N(tmp,prec))\n",
        "\n",
        "pprint(\"\\nIx'x' / (kg m\u00b2):\")\n",
        "Ix1 = mass * yS*yS\n",
        "Ix2 = mass * a*a / 12\n",
        "Ix3 = Ix1\n",
        "Ix = Ix1 + Ix2 + Ix3\n",
        "tmp = Ix\n",
        "tmp /= kg*m**2\n",
        "pprint(N(tmp,prec))\n",
        "\n",
        "pprint(\"\\nIy'y' / (kg m\u00b2):\")\n",
        "Iy1 = mass * a*a / 12 + (a/6)**2*mass\n",
        "Iy2 = 0 + (a/3)**2*mass\n",
        "Iy3 = Iy1\n",
        "Iy = Iy1+Iy2+Iy3\n",
        "tmp = Iy\n",
        "tmp /= kg*m**2\n",
        "pprint(N(tmp,prec))\n"
      ],
      "outputs": [],
      "execution_count": null
    }
  ],
  "metadata": {
    "anaconda-cloud": {},
    "kernelspec": {
      "display_name": "Python 3",
      "language": "python",
      "name": "python3"
    },
    "language_info": {
      "codemirror_mode": {
        "name": "ipython",
        "version": 3
      },
      "file_extension": ".py",
      "mimetype": "text/x-python",
      "name": "python",
      "nbconvert_exporter": "python",
      "pygments_lexer": "ipython3",
      "version": "3.6.1"
    }
  },
  "nbformat": 4,
  "nbformat_minor": 1
}