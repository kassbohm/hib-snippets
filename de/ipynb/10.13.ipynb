{
  "cells": [
    {
      "cell_type": "code",
      "metadata": {},
      "source": [
        "a = 0.3 *m\n",
        "q = 25 *Newton/m\n",
        "grav = 9.81 *m/s**2\n",
        "\n",
        "pprint(\"\\nMass of one part / kg:\")\n",
        "G = a*q\n",
        "mass = G/grav\n",
        "tmp = mass\n",
        "tmp /= kg\n",
        "tmp = iso_round(tmp,0.001)\n",
        "pprint(tmp)\n",
        "\n",
        "pprint(\"\\nx-position of centroid / m:\")\n",
        "(xS, yS) = (-2*a/3, a/2)\n",
        "tmp = xS\n",
        "tmp /= m\n",
        "tmp = iso_round(tmp,0.001)\n",
        "pprint(tmp)\n",
        "\n",
        "pprint(\"\\ny-position of centroid / m:\")\n",
        "tmp = yS\n",
        "tmp /= m\n",
        "tmp = iso_round(tmp,0.001)\n",
        "pprint(tmp)\n",
        "\n",
        "pprint(\"\\nIx'x' / (kg m\u00b2):\")\n",
        "Ix1 = mass * yS*yS\n",
        "Ix2 = mass * a*a / 12\n",
        "Ix3 = Ix1\n",
        "Ix = Ix1 + Ix2 + Ix3\n",
        "tmp = Ix\n",
        "tmp /= kg*m**2\n",
        "tmp = iso_round(tmp,0.001)\n",
        "pprint(tmp)\n",
        "\n",
        "pprint(\"\\nIy'y' / (kg m\u00b2):\")\n",
        "Iy1 = mass * a*a / 12 + (a/6)**2*mass\n",
        "Iy2 = 0 + (a/3)**2*mass\n",
        "Iy3 = Iy1\n",
        "Iy = Iy1+Iy2+Iy3\n",
        "tmp = Iy\n",
        "tmp /= kg*m**2\n",
        "tmp = iso_round(tmp,0.001)\n",
        "pprint(tmp)\n"
      ],
      "outputs": [],
      "execution_count": null
    }
  ],
  "metadata": {
    "anaconda-cloud": {},
    "kernelspec": {
      "display_name": "Python 3",
      "language": "python",
      "name": "python3"
    },
    "language_info": {
      "codemirror_mode": {
        "name": "ipython",
        "version": 3
      },
      "file_extension": ".py",
      "mimetype": "text/x-python",
      "name": "python",
      "nbconvert_exporter": "python",
      "pygments_lexer": "ipython3",
      "version": "3.6.1"
    }
  },
  "nbformat": 4,
  "nbformat_minor": 1
}