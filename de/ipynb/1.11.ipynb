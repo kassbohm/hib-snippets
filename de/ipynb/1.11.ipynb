{
  "cells": [
    {
      "cell_type": "code",
      "metadata": {},
      "source": [
        "from sympy.physics.units import *\n",
        "from sympy import *\n",
        "\n",
        "t1 = 2 *s\n",
        "s1 = 1 *m\n",
        "v1 = 2 *m/s\n",
        "t2 = 6 *s\n",
        "b  = 2 *m/s/s/s\n",
        "a0 = 1 *m/s/s\n",
        "\n",
        "s2 = s1 + v1*t2 - a0*t2*t2/2 +b*t2*t2*t2/6\n",
        "v2 = v1 - a0*t2 + b*t2*t2/2\n",
        "\n",
        "pprint(\"\\ns2 / m:\")\n",
        "tmp = s2\n",
        "tmp /= m\n",
        "pprint(N(tmp,3))\n",
        "\n",
        "pprint(\"\\nv2 / (m/s):\")\n",
        "tmp = v2\n",
        "tmp /= m/s\n",
        "pprint(N(tmp,3))\n"
      ],
      "outputs": [],
      "execution_count": null
    }
  ],
  "metadata": {
    "anaconda-cloud": {},
    "kernelspec": {
      "display_name": "Python 3",
      "language": "python",
      "name": "python3"
    },
    "language_info": {
      "codemirror_mode": {
        "name": "ipython",
        "version": 3
      },
      "file_extension": ".py",
      "mimetype": "text/x-python",
      "name": "python",
      "nbconvert_exporter": "python",
      "pygments_lexer": "ipython3",
      "version": "3.6.1"
    }
  },
  "nbformat": 4,
  "nbformat_minor": 1
}