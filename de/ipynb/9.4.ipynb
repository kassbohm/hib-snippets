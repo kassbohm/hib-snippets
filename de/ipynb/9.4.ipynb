{
  "cells": [
    {
      "cell_type": "code",
      "metadata": {},
      "source": [
        "from sympy.physics.units import *\n",
        "from sympy import *\n",
        "\n",
        "prec = 3\n",
        "\n",
        "l = 1.4 *m\n",
        "theta = N(25*pi/180)\n",
        "\n",
        "ct, st = cos(theta), sin(theta)\n",
        "\n",
        "# Omega and Omega' from (1) and (2):\n",
        "w  = Matrix([2, 0, 6]) / s\n",
        "wp = Matrix([1.5, 12, 3]) / (s**2)\n",
        "\n",
        "\n",
        "r = l*Matrix([0, ct, st])\n",
        "\n",
        "vA = w.cross(r)\n",
        "aA = wp.cross(r) + w.cross(w.cross(r))\n",
        "\n",
        "pprint(\"\\nvA / (m/s):\")\n",
        "tmp = vA / (m/s)\n",
        "pprint(N(tmp,prec))\n",
        "pprint(\"\\naA / (m/s\u00b2):\")\n",
        "tmp = aA / (m/(s**2))\n",
        "pprint(N(tmp,prec))\n",
        "\n",
        "# vA / (m/s):\n",
        "# \u23a1-7.61\u23a4\n",
        "# \u23a2     \u23a5\n",
        "# \u23a2-1.18\u23a5\n",
        "# \u23a2     \u23a5\n",
        "# \u23a32.54 \u23a6\n",
        "#\n",
        "# aA / (m/s\u00b2):\n",
        "# \u23a1 10.4 \u23a4\n",
        "# \u23a2      \u23a5\n",
        "# \u23a2-51.6 \u23a5\n",
        "# \u23a2      \u23a5\n",
        "# \u23a3-0.463\u23a6\n"
      ],
      "outputs": [],
      "execution_count": null
    }
  ],
  "metadata": {
    "anaconda-cloud": {},
    "kernelspec": {
      "display_name": "Python 3",
      "language": "python",
      "name": "python3"
    },
    "language_info": {
      "codemirror_mode": {
        "name": "ipython",
        "version": 3
      },
      "file_extension": ".py",
      "mimetype": "text/x-python",
      "name": "python",
      "nbconvert_exporter": "python",
      "pygments_lexer": "ipython3",
      "version": "3.6.1"
    }
  },
  "nbformat": 4,
  "nbformat_minor": 1
}