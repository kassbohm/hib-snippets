{
  "cells": [
    {
      "cell_type": "code",
      "metadata": {},
      "source": [
        "from sympy.physics.units import *\n",
        "from sympy import *\n",
        "\n",
        "t = var(\"t\")\n",
        "\u03c9 = var(\"\u03c9\")\n",
        "r, l = 3 *m, 5 *m\n",
        "\n",
        "# Shortcuts:\n",
        "C, S = var(\"C, S\")\n",
        "\n",
        "theta = Function(\"theta\")(t)\n",
        "s = sqrt(r*r + l*l - 2*r*l*cos(theta))\n",
        "s = s.simplify()\n",
        "\n",
        "v = s.diff(t)\n",
        "a = v.diff(t)\n",
        "\n",
        "pprint(\"\\nv:\")\n",
        "tmp = v.subs(theta.diff(t),\u03c9)\n",
        "tmp = tmp.subs(sin(theta),S)\n",
        "tmp = tmp.subs(cos(theta),C)\n",
        "pprint(tmp)\n",
        "\n",
        "\n",
        "pprint(\"\\na:\")\n",
        "tmp = a.subs(theta.diff(t),\u03c9)\n",
        "tmp = tmp.subs(sin(theta),S)\n",
        "tmp = tmp.subs(cos(theta),C)\n",
        "pprint(tmp)\n"
      ],
      "outputs": [],
      "execution_count": null
    }
  ],
  "metadata": {
    "anaconda-cloud": {},
    "kernelspec": {
      "display_name": "Python 3",
      "language": "python",
      "name": "python3"
    },
    "language_info": {
      "codemirror_mode": {
        "name": "ipython",
        "version": 3
      },
      "file_extension": ".py",
      "mimetype": "text/x-python",
      "name": "python",
      "nbconvert_exporter": "python",
      "pygments_lexer": "ipython3",
      "version": "3.6.1"
    }
  },
  "nbformat": 4,
  "nbformat_minor": 1
}