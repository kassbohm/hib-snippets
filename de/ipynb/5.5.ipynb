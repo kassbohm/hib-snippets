{
  "cells": [
    {
      "cell_type": "code",
      "metadata": {},
      "source": [
        "from sympy.physics.units import *\n",
        "from sympy import *\n",
        "\n",
        "prec = 3\n",
        "\n",
        "w0 = 50 / s\n",
        "b = S(6)/100 /s**2\n",
        "\n",
        "dt = 10*2*pi\n",
        "w2 = w0*w0 + 2*b*dt**3/3\n",
        "\n",
        "pprint(\"\\nw / (1/s):\")\n",
        "tmp = sqrt(w2)\n",
        "tmp /= 1/s\n",
        "tmp = N(tmp, prec)\n",
        "pprint(tmp)\n",
        "\n",
        "# w / (1/s):\n",
        "# 111.\n"
      ],
      "outputs": [],
      "execution_count": null
    }
  ],
  "metadata": {
    "anaconda-cloud": {},
    "kernelspec": {
      "display_name": "Python 3",
      "language": "python",
      "name": "python3"
    },
    "language_info": {
      "codemirror_mode": {
        "name": "ipython",
        "version": 3
      },
      "file_extension": ".py",
      "mimetype": "text/x-python",
      "name": "python",
      "nbconvert_exporter": "python",
      "pygments_lexer": "ipython3",
      "version": "3.6.1"
    }
  },
  "nbformat": 4,
  "nbformat_minor": 1
}