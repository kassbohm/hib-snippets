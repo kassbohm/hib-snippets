{
  "cells": [
    {
      "cell_type": "code",
      "metadata": {},
      "source": [
        "from sympy.physics.units import *\n",
        "from sympy import *\n",
        "\n",
        "k = 5 *m*m/s\n",
        "b = 4 *m\n",
        "x, x2 = var(\"x, x2\", positive=True)\n",
        "\n",
        "lhs = k*6*s\n",
        "tmp = b*x + x*x/2\n",
        "rhs = tmp.subs(x, x2) - tmp.subs(x, 5*m)\n",
        "\n",
        "eq = Eq( lhs, rhs )\n",
        "pprint(eq)\n",
        "\n",
        "sol = solve(eq,x2)[0]\n",
        "pprint(\"\\ns2 / m:\")\n",
        "tmp = sol\n",
        "tmp /= m\n",
        "pprint(N(tmp,3))\n"
      ],
      "outputs": [],
      "execution_count": null
    }
  ],
  "metadata": {
    "anaconda-cloud": {},
    "kernelspec": {
      "display_name": "Python 3",
      "language": "python",
      "name": "python3"
    },
    "language_info": {
      "codemirror_mode": {
        "name": "ipython",
        "version": 3
      },
      "file_extension": ".py",
      "mimetype": "text/x-python",
      "name": "python",
      "nbconvert_exporter": "python",
      "pygments_lexer": "ipython3",
      "version": "3.6.1"
    }
  },
  "nbformat": 4,
  "nbformat_minor": 1
}