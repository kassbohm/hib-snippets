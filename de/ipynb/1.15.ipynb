{
  "nbformat_minor": 1, 
  "nbformat": 4, 
  "cells": [
    {
      "source": [
        "from sympy.physics.units import *\n", 
        "from sympy import *\n", 
        "\n", 
        "k = 5 *m*m/s\n", 
        "b = 4 *m\n", 
        "x, x2 = var(\"x, x2\", positive=True)\n", 
        "\n", 
        "lhs = k*6*s\n", 
        "tmp = b*x + x*x/2\n", 
        "rhs = tmp.subs(x, x2) - tmp.subs(x, 5*m)\n", 
        "\n", 
        "eq = Eq( lhs, rhs )\n", 
        "pprint(eq)\n", 
        "\n", 
        "sol = solve(eq,x2)[0]\n", 
        "pprint(\"\\ns2 / m:\")\n", 
        "tmp = sol\n", 
        "tmp /= m\n", 
        "pprint(N(tmp,3))\n"
      ], 
      "cell_type": "code", 
      "execution_count": null, 
      "outputs": [], 
      "metadata": {}
    }
  ], 
  "metadata": {
    "kernelspec": {
      "display_name": "Python 3", 
      "name": "python3", 
      "language": "python"
    }, 
    "language_info": {
      "mimetype": "text/x-python", 
      "nbconvert_exporter": "python", 
      "name": "python", 
      "file_extension": ".py", 
      "version": "3.6.1", 
      "pygments_lexer": "ipython3", 
      "codemirror_mode": {
        "version": 3, 
        "name": "ipython"
      }
    }, 
    "anaconda-cloud": {}
  }
}