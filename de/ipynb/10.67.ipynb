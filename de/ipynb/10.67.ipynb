{
  "nbformat_minor": 1, 
  "nbformat": 4, 
  "cells": [
    {
      "source": [
        "from sympy.physics.units import *\n", 
        "from sympy import *\n", 
        "\n", 
        "prec = 3\n", 
        "\n", 
        "g = S(981)/100 *m/s**2\n", 
        "\n", 
        "newton = kg*m/s**2\n", 
        "kN = 1000 * newton\n", 
        "Nm = newton *m\n", 
        "kNm = 1000 *Nm\n", 
        "\n", 
        "G = 50 *kN\n", 
        "k = S(2)/10 *m\n", 
        "wy = 2 /s\n", 
        "wS = 100 /s\n", 
        "\n", 
        "pprint(\"\\nm / kg:\")\n", 
        "mass = G / g\n", 
        "tmp = mass\n", 
        "tmp /= kg\n", 
        "tmp = N(tmp,prec)\n", 
        "pprint(tmp)\n", 
        "\n", 
        "pprint(\"\\nIzz / (kg m\u00b2):\")\n", 
        "mass = G / g\n", 
        "Izz = mass*k**2\n", 
        "tmp = Izz\n", 
        "tmp /= kg *m**2\n", 
        "tmp = N(tmp,prec)\n", 
        "pprint(tmp)\n", 
        "\n", 
        "pprint(\"\\nMx / (kNm):\")\n", 
        "Mx = Izz*wy*wS\n", 
        "tmp = Mx\n", 
        "tmp /= kNm\n", 
        "tmp = N(tmp,prec)\n", 
        "pprint(tmp)\n", 
        "pprint(\"\\nMx / (Nm):\")\n", 
        "tmp = Mx\n", 
        "tmp /= Nm\n", 
        "tmp = N(tmp,prec)\n", 
        "pprint(tmp)\n", 
        "\n", 
        "# m / kg:\n", 
        "# 5.10e+3\n", 
        "#\n", 
        "# Izz / (kg m\u00b2):\n", 
        "# 204.\n", 
        "#\n", 
        "# Mx / (kNm):\n", 
        "# 40.8\n", 
        "#\n", 
        "# Mx / (Nm):\n", 
        "# 4.08e+4\n"
      ], 
      "cell_type": "code", 
      "execution_count": null, 
      "outputs": [], 
      "metadata": {}
    }
  ], 
  "metadata": {
    "kernelspec": {
      "display_name": "Python 3", 
      "name": "python3", 
      "language": "python"
    }, 
    "language_info": {
      "mimetype": "text/x-python", 
      "nbconvert_exporter": "python", 
      "name": "python", 
      "file_extension": ".py", 
      "version": "3.6.1", 
      "pygments_lexer": "ipython3", 
      "codemirror_mode": {
        "version": 3, 
        "name": "ipython"
      }
    }, 
    "anaconda-cloud": {}
  }
}