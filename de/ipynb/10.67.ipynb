{
  "cells": [
    {
      "cell_type": "code",
      "metadata": {},
      "source": [
        "from sympy.physics.units import *\n",
        "from sympy import *\n",
        "\n",
        "prec = 3\n",
        "\n",
        "g = S(981)/100 *m/s**2\n",
        "\n",
        "newton = kg*m/s**2\n",
        "kN = 1000 * newton\n",
        "Nm = newton *m\n",
        "kNm = 1000 *Nm\n",
        "\n",
        "G = 50 *kN\n",
        "k = S(2)/10 *m\n",
        "wy = 2 /s\n",
        "wS = 100 /s\n",
        "\n",
        "pprint(\"\\nm / kg:\")\n",
        "mass = G / g\n",
        "tmp = mass\n",
        "tmp /= kg\n",
        "tmp = N(tmp,prec)\n",
        "pprint(tmp)\n",
        "\n",
        "pprint(\"\\nIzz / (kg m\u00b2):\")\n",
        "mass = G / g\n",
        "Izz = mass*k**2\n",
        "tmp = Izz\n",
        "tmp /= kg *m**2\n",
        "tmp = N(tmp,prec)\n",
        "pprint(tmp)\n",
        "\n",
        "pprint(\"\\nMx / (kNm):\")\n",
        "Mx = Izz*wy*wS\n",
        "tmp = Mx\n",
        "tmp /= kNm\n",
        "tmp = N(tmp,prec)\n",
        "pprint(tmp)\n",
        "pprint(\"\\nMx / (Nm):\")\n",
        "tmp = Mx\n",
        "tmp /= Nm\n",
        "tmp = N(tmp,prec)\n",
        "pprint(tmp)\n",
        "\n",
        "# m / kg:\n",
        "# 5.10e+3\n",
        "#\n",
        "# Izz / (kg m\u00b2):\n",
        "# 204.\n",
        "#\n",
        "# Mx / (kNm):\n",
        "# 40.8\n",
        "#\n",
        "# Mx / (Nm):\n",
        "# 4.08e+4\n"
      ],
      "outputs": [],
      "execution_count": null
    }
  ],
  "metadata": {
    "anaconda-cloud": {},
    "kernelspec": {
      "display_name": "Python 3",
      "language": "python",
      "name": "python3"
    },
    "language_info": {
      "codemirror_mode": {
        "name": "ipython",
        "version": 3
      },
      "file_extension": ".py",
      "mimetype": "text/x-python",
      "name": "python",
      "nbconvert_exporter": "python",
      "pygments_lexer": "ipython3",
      "version": "3.6.1"
    }
  },
  "nbformat": 4,
  "nbformat_minor": 1
}