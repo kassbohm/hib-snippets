{
  "nbformat_minor": 1, 
  "nbformat": 4, 
  "cells": [
    {
      "source": [
        "la, lb, ha = var(\"la, lb, ha\")\n", 
        "alpha = var(\"alpha\")\n", 
        "rD, v = var(\"rD, v\")\n", 
        "\n", 
        "sub_list=[\n", 
        "    ( la,     2 *m       ),\n", 
        "    ( lb,     1 *m       ),\n", 
        "    ( ha,     3 *m/2     ),\n", 
        "    ( alpha, 45 *deg     ),\n", 
        "    ( rD,     5 *m  /100 ),\n", 
        "    ( v,     25 *m/s/100 ),\n", 
        "    ]\n", 
        "\n", 
        "wD = v/rD\n", 
        "\n", 
        "# to reproduce Hibbeler's (wrong) solution:\n", 
        "# wD *= 2\n", 
        "\n", 
        "ca, sa = cos(alpha), sin(alpha)\n", 
        "t1 = Matrix([0, 0, ha])\n", 
        "t2 = la * Matrix([ca, 0,  sa])\n", 
        "t3 = lb * Matrix([sa, 0, -ca])\n", 
        "rC = t1 + t2 + t3\n", 
        "WD = Matrix([0,0,wD])\n", 
        "\n", 
        "vC = WD.cross(rC)\n", 
        "aC = WD.cross(WD.cross(rC))\n", 
        "\n", 
        "pprint(\"\\nvC / (m/s):   \")\n", 
        "tmp = vC\n", 
        "tmp = tmp.subs(sub_list)\n", 
        "tmp /= m/s\n", 
        "tmp = iso_round(tmp,0.1)\n", 
        "pprint(tmp)\n", 
        "\n", 
        "pprint(\"\\naC / (m/s):   \")\n", 
        "tmp = aC\n", 
        "tmp = tmp.subs(sub_list)\n", 
        "tmp /= m/s**2\n", 
        "tmp = iso_round(tmp,0.1)\n", 
        "pprint(tmp)\n", 
        "\n", 
        "# vC / (m/s):\n", 
        "# \u23a10.0 \u23a4\n", 
        "# \u23a2    \u23a5\n", 
        "# \u23a210.6\u23a5\n", 
        "# \u23a2    \u23a5\n", 
        "# \u23a30.0 \u23a6\n", 
        "#\n", 
        "# aC / (m/s):\n", 
        "# \u23a1-53.0\u23a4\n", 
        "# \u23a2     \u23a5\n", 
        "# \u23a2 0.0 \u23a5\n", 
        "# \u23a2     \u23a5\n", 
        "# \u23a3 0.0 \u23a6\n"
      ], 
      "cell_type": "code", 
      "execution_count": null, 
      "outputs": [], 
      "metadata": {}
    }
  ], 
  "metadata": {
    "kernelspec": {
      "display_name": "Python 3", 
      "name": "python3", 
      "language": "python"
    }, 
    "language_info": {
      "mimetype": "text/x-python", 
      "nbconvert_exporter": "python", 
      "name": "python", 
      "file_extension": ".py", 
      "version": "3.6.1", 
      "pygments_lexer": "ipython3", 
      "codemirror_mode": {
        "version": 3, 
        "name": "ipython"
      }
    }, 
    "anaconda-cloud": {}
  }
}