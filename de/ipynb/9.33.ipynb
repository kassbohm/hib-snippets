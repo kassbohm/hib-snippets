{
  "nbformat_minor": 1, 
  "nbformat": 4, 
  "cells": [
    {
      "source": [
        "from sympy.physics.units import *\n", 
        "from sympy import *\n", 
        "\n", 
        "prec = 3\n", 
        "\n", 
        "l = 3 *m\n", 
        "theta = 60 *pi/180\n", 
        "\n", 
        "ct, st = cos(theta), sin(theta)\n", 
        "\n", 
        "# Omega and Omega':\n", 
        "O  = Matrix([-2, -2, 0]) / s\n", 
        "Op = Matrix([-8, -5, -4]) / (s**2)\n", 
        "\n", 
        "r = l*Matrix([0, ct, - st])\n", 
        "\n", 
        "vA = O.cross(r)\n", 
        "aA = Op.cross(r) + O.cross(O.cross(r))\n", 
        "\n", 
        "pprint(\"\\nw'/ (1/s\u00b2):\")\n", 
        "tmp = Op\n", 
        "tmp /= 1/(s**2)\n", 
        "pprint(N(tmp,prec))\n", 
        "\n", 
        "pprint(\"\\nw x ( w x r) / (m/s\u00b2):\")\n", 
        "tmp = O.cross(O.cross(r))\n", 
        "tmp /= m/(s**2)\n", 
        "pprint(N(tmp,prec))\n", 
        "\n", 
        "pprint(\"\\nvA / (m/s):\")\n", 
        "tmp = vA / (m/s)\n", 
        "pprint(N(tmp,prec))\n", 
        "pprint(\"\\naA / (m/s\u00b2):\")\n", 
        "tmp = aA / (m/(s**2))\n", 
        "pprint(N(tmp,prec))\n"
      ], 
      "cell_type": "code", 
      "execution_count": null, 
      "outputs": [], 
      "metadata": {}
    }
  ], 
  "metadata": {
    "kernelspec": {
      "display_name": "Python 3", 
      "name": "python3", 
      "language": "python"
    }, 
    "language_info": {
      "mimetype": "text/x-python", 
      "nbconvert_exporter": "python", 
      "name": "python", 
      "file_extension": ".py", 
      "version": "3.6.1", 
      "pygments_lexer": "ipython3", 
      "codemirror_mode": {
        "version": 3, 
        "name": "ipython"
      }
    }, 
    "anaconda-cloud": {}
  }
}