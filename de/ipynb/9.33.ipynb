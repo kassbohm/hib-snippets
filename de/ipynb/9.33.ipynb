{
  "cells": [
    {
      "cell_type": "code",
      "metadata": {},
      "source": [
        "from sympy.physics.units import *\n",
        "from sympy import *\n",
        "\n",
        "prec = 3\n",
        "\n",
        "l = 3 *m\n",
        "theta = 60 *pi/180\n",
        "\n",
        "ct, st = cos(theta), sin(theta)\n",
        "\n",
        "# Omega and Omega':\n",
        "O  = Matrix([-2, -2, 0]) / s\n",
        "Op = Matrix([-8, -5, -4]) / (s**2)\n",
        "\n",
        "r = l*Matrix([0, ct, - st])\n",
        "\n",
        "vA = O.cross(r)\n",
        "aA = Op.cross(r) + O.cross(O.cross(r))\n",
        "\n",
        "pprint(\"\\nw'/ (1/s\u00b2):\")\n",
        "tmp = Op\n",
        "tmp /= 1/(s**2)\n",
        "pprint(N(tmp,prec))\n",
        "\n",
        "pprint(\"\\nw x ( w x r) / (m/s\u00b2):\")\n",
        "tmp = O.cross(O.cross(r))\n",
        "tmp /= m/(s**2)\n",
        "pprint(N(tmp,prec))\n",
        "\n",
        "pprint(\"\\nvA / (m/s):\")\n",
        "tmp = vA / (m/s)\n",
        "pprint(N(tmp,prec))\n",
        "pprint(\"\\naA / (m/s\u00b2):\")\n",
        "tmp = aA / (m/(s**2))\n",
        "pprint(N(tmp,prec))\n"
      ],
      "outputs": [],
      "execution_count": null
    }
  ],
  "metadata": {
    "anaconda-cloud": {},
    "kernelspec": {
      "display_name": "Python 3",
      "language": "python",
      "name": "python3"
    },
    "language_info": {
      "codemirror_mode": {
        "name": "ipython",
        "version": 3
      },
      "file_extension": ".py",
      "mimetype": "text/x-python",
      "name": "python",
      "nbconvert_exporter": "python",
      "pygments_lexer": "ipython3",
      "version": "3.6.1"
    }
  },
  "nbformat": 4,
  "nbformat_minor": 1
}