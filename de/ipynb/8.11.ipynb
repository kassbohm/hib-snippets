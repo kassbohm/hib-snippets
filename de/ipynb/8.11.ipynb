{
  "cells": [
    {
      "cell_type": "code",
      "metadata": {},
      "source": [
        "from sympy.physics.units import *\n",
        "from sympy import *\n",
        "\n",
        "mm = m/1000\n",
        "newton=kg*m/s**2\n",
        "kN = 1000*newton\n",
        "\n",
        "g = S(981)/100 *m/s/s\n",
        "G = 85 *kN\n",
        "\n",
        "r = 375 *mm\n",
        "k = S(14)/10 *m\n",
        "t1 = 5 *s\n",
        "v0 = 360 *m/s\n",
        "F1 = 25 *kN\n",
        "F2 = 4 *kN\n",
        "\n",
        "mass = G/g\n",
        "J = mass*k*k\n",
        "\n",
        "v1 = v0 + (F1 + F2)/mass * t1\n",
        "w1 = r *(F1 - F2)/J *t1\n",
        "pprint(\"\\nv / (m/s):\")\n",
        "pprint(N(v1/ (m/s),3))\n",
        "pprint(\"\\n\u03c9 / (1/s):\")\n",
        "pprint(N(w1 / (1/s),3))\n"
      ],
      "outputs": [],
      "execution_count": null
    }
  ],
  "metadata": {
    "anaconda-cloud": {},
    "kernelspec": {
      "display_name": "Python 3",
      "language": "python",
      "name": "python3"
    },
    "language_info": {
      "codemirror_mode": {
        "name": "ipython",
        "version": 3
      },
      "file_extension": ".py",
      "mimetype": "text/x-python",
      "name": "python",
      "nbconvert_exporter": "python",
      "pygments_lexer": "ipython3",
      "version": "3.6.1"
    }
  },
  "nbformat": 4,
  "nbformat_minor": 1
}