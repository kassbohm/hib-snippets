{
  "cells": [
    {
      "cell_type": "code",
      "metadata": {},
      "source": [
        "from sympy.physics.units import *\n",
        "from sympy import *\n",
        "\n",
        "prec = 5\n",
        "\n",
        "newton = kg*m/s**2\n",
        "kN = 1000*newton\n",
        "\n",
        "g = S(981)/100 *m/s**2\n",
        "\n",
        "qG, d, b, r, a = var(\"qG, d, b, r, a\")\n",
        "\n",
        "sub_list = [\n",
        "    (qG, S(75)/10 *kN/m),\n",
        "    (d, 2 *m),\n",
        "    (b, 5 *m),\n",
        "    (r, 1 *m),\n",
        "    (a, S(1)/2 *m/s**2),\n",
        "    ]\n",
        "\n",
        "mu = qG/g\n",
        "\n",
        "# cos(alpha):\n",
        "ca = sqrt(2)/2\n",
        "\n",
        "pprint(\"\\nR / N:\")\n",
        "R = mu*(g+a)*2*b\n",
        "tmp = R\n",
        "tmp = tmp.subs(sub_list)\n",
        "tmp /= newton\n",
        "pprint(N(tmp,prec))\n",
        "\n",
        "pprint(\"\\nM / Nm:\")\n",
        "M = R * r\n",
        "tmp = M\n",
        "tmp = tmp.subs(sub_list)\n",
        "tmp /= newton*m\n",
        "pprint(N(tmp,prec))\n"
      ],
      "outputs": [],
      "execution_count": null
    }
  ],
  "metadata": {
    "anaconda-cloud": {},
    "kernelspec": {
      "display_name": "Python 3",
      "language": "python",
      "name": "python3"
    },
    "language_info": {
      "codemirror_mode": {
        "name": "ipython",
        "version": 3
      },
      "file_extension": ".py",
      "mimetype": "text/x-python",
      "name": "python",
      "nbconvert_exporter": "python",
      "pygments_lexer": "ipython3",
      "version": "3.6.1"
    }
  },
  "nbformat": 4,
  "nbformat_minor": 1
}