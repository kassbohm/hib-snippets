{
  "nbformat_minor": 1, 
  "nbformat": 4, 
  "cells": [
    {
      "source": [
        "from sympy.physics.units import *\n", 
        "from sympy import *\n", 
        "\n", 
        "prec = 5\n", 
        "\n", 
        "newton = kg*m/s**2\n", 
        "kN = 1000*newton\n", 
        "\n", 
        "g = S(981)/100 *m/s**2\n", 
        "\n", 
        "qG, d, b, r, a = var(\"qG, d, b, r, a\")\n", 
        "\n", 
        "sub_list = [\n", 
        "    (qG, S(75)/10 *kN/m),\n", 
        "    (d, 2 *m),\n", 
        "    (b, 5 *m),\n", 
        "    (r, 1 *m),\n", 
        "    (a, S(1)/2 *m/s**2),\n", 
        "    ]\n", 
        "\n", 
        "mu = qG/g\n", 
        "\n", 
        "# cos(alpha):\n", 
        "ca = sqrt(2)/2\n", 
        "\n", 
        "pprint(\"\\nR / N:\")\n", 
        "R = mu*(g+a)*2*b\n", 
        "tmp = R\n", 
        "tmp = tmp.subs(sub_list)\n", 
        "tmp /= newton\n", 
        "pprint(N(tmp,prec))\n", 
        "\n", 
        "pprint(\"\\nM / Nm:\")\n", 
        "M = R * r\n", 
        "tmp = M\n", 
        "tmp = tmp.subs(sub_list)\n", 
        "tmp /= newton*m\n", 
        "pprint(N(tmp,prec))\n"
      ], 
      "cell_type": "code", 
      "execution_count": null, 
      "outputs": [], 
      "metadata": {}
    }
  ], 
  "metadata": {
    "kernelspec": {
      "display_name": "Python 3", 
      "name": "python3", 
      "language": "python"
    }, 
    "language_info": {
      "mimetype": "text/x-python", 
      "nbconvert_exporter": "python", 
      "name": "python", 
      "file_extension": ".py", 
      "version": "3.6.1", 
      "pygments_lexer": "ipython3", 
      "codemirror_mode": {
        "version": 3, 
        "name": "ipython"
      }
    }, 
    "anaconda-cloud": {}
  }
}