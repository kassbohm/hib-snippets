{
  "cells": [
    {
      "cell_type": "code",
      "metadata": {},
      "source": [
        "from sympy.physics.units import *\n",
        "from sympy import *\n",
        "from mpmath import radians\n",
        "\n",
        "l = 5 *m\n",
        "vA = 6 *m/s\n",
        "alpha = radians(30)\n",
        "phi = radians(45)\n",
        "\n",
        "sp, cp = sin(phi), cos(phi)\n",
        "ca, ta = cos(alpha), tan(alpha)\n",
        "\n",
        "pprint(\"\\n\u03c9 / (1/s):\")\n",
        "dCA = l * (cp*ta + sp)\n",
        "w = vA / dCA\n",
        "tmp = w\n",
        "tmp /= (1/s)\n",
        "pprint(N(tmp,3))\n",
        "\n",
        "pprint(\"\\nvB / (m/s):\")\n",
        "dCB = l*cp/ca\n",
        "vB = w*dCB\n",
        "tmp = vB\n",
        "tmp /= m/s\n",
        "pprint(N(tmp,3))\n"
      ],
      "outputs": [],
      "execution_count": null
    }
  ],
  "metadata": {
    "anaconda-cloud": {},
    "kernelspec": {
      "display_name": "Python 3",
      "language": "python",
      "name": "python3"
    },
    "language_info": {
      "codemirror_mode": {
        "name": "ipython",
        "version": 3
      },
      "file_extension": ".py",
      "mimetype": "text/x-python",
      "name": "python",
      "nbconvert_exporter": "python",
      "pygments_lexer": "ipython3",
      "version": "3.6.1"
    }
  },
  "nbformat": 4,
  "nbformat_minor": 1
}