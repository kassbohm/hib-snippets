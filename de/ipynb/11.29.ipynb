{
  "nbformat_minor": 1, 
  "nbformat": 4, 
  "cells": [
    {
      "source": [
        "from sympy.physics.units import *\n", 
        "from sympy import *\n", 
        "\n", 
        "b, m, g = var(\"b, m, g\")\n", 
        "\n", 
        "# 4 unknowns x'', y'', z'', lambda\n", 
        "x, y, z, lam = var(\"x, y, z, lambda \")\n", 
        "\n", 
        "# 4 equations:\n", 
        "eq1 = Eq(m*x, lam/2)\n", 
        "eq2 = Eq(m*y, lam)\n", 
        "eq3 = Eq(m*z, -m*g + lam)\n", 
        "eq4 = Eq(x/2  + y + z)\n", 
        "\n", 
        "sol = solve([eq1, eq2, eq3, eq4], [x, y, z, lam])\n", 
        "\n", 
        "pprint(sol)\n", 
        "\n", 
        "t = sqrt( 18*b/(5*g) )\n", 
        "x = g*t*t/9\n", 
        "y = 2*g*t*t/9\n", 
        "\n", 
        "pprint(\"\\nx1:\")\n", 
        "pprint(x)\n", 
        "pprint(\"\\ny1:\")\n", 
        "pprint(y)\n", 
        "\n", 
        "# \u23a7   4\u22c5g\u22c5m     2\u22c5g     4\u22c5g     -5\u22c5g \u23ab\n", 
        "# \u23a8\u03bb: \u2500\u2500\u2500\u2500\u2500, x: \u2500\u2500\u2500, y: \u2500\u2500\u2500, z: \u2500\u2500\u2500\u2500\u2500\u23ac\n", 
        "# \u23a9     9        9       9        9  \u23ad\n", 
        "#\n", 
        "# x1:\n", 
        "# 2\u22c5b\n", 
        "# \u2500\u2500\u2500\n", 
        "#  5\n", 
        "#\n", 
        "# y1:\n", 
        "# 4\u22c5b\n", 
        "# \u2500\u2500\u2500\n", 
        "#  5\n"
      ], 
      "cell_type": "code", 
      "execution_count": null, 
      "outputs": [], 
      "metadata": {}
    }
  ], 
  "metadata": {
    "kernelspec": {
      "display_name": "Python 3", 
      "name": "python3", 
      "language": "python"
    }, 
    "language_info": {
      "mimetype": "text/x-python", 
      "nbconvert_exporter": "python", 
      "name": "python", 
      "file_extension": ".py", 
      "version": "3.6.1", 
      "pygments_lexer": "ipython3", 
      "codemirror_mode": {
        "version": 3, 
        "name": "ipython"
      }
    }, 
    "anaconda-cloud": {}
  }
}