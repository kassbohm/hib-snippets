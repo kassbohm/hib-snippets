{
  "cells": [
    {
      "cell_type": "code",
      "metadata": {},
      "source": [
        "from sympy.physics.units import *\n",
        "from sympy import *\n",
        "\n",
        "b, m, g = var(\"b, m, g\")\n",
        "\n",
        "# 4 unknowns x'', y'', z'', lambda\n",
        "x, y, z, lam = var(\"x, y, z, lambda \")\n",
        "\n",
        "# 4 equations:\n",
        "eq1 = Eq(m*x, lam/2)\n",
        "eq2 = Eq(m*y, lam)\n",
        "eq3 = Eq(m*z, -m*g + lam)\n",
        "eq4 = Eq(x/2  + y + z)\n",
        "\n",
        "sol = solve([eq1, eq2, eq3, eq4], [x, y, z, lam])\n",
        "\n",
        "pprint(sol)\n",
        "\n",
        "t = sqrt( 18*b/(5*g) )\n",
        "x = g*t*t/9\n",
        "y = 2*g*t*t/9\n",
        "\n",
        "pprint(\"\\nx1:\")\n",
        "pprint(x)\n",
        "pprint(\"\\ny1:\")\n",
        "pprint(y)\n",
        "\n",
        "# \u23a7   4\u22c5g\u22c5m     2\u22c5g     4\u22c5g     -5\u22c5g \u23ab\n",
        "# \u23a8\u03bb: \u2500\u2500\u2500\u2500\u2500, x: \u2500\u2500\u2500, y: \u2500\u2500\u2500, z: \u2500\u2500\u2500\u2500\u2500\u23ac\n",
        "# \u23a9     9        9       9        9  \u23ad\n",
        "#\n",
        "# x1:\n",
        "# 2\u22c5b\n",
        "# \u2500\u2500\u2500\n",
        "#  5\n",
        "#\n",
        "# y1:\n",
        "# 4\u22c5b\n",
        "# \u2500\u2500\u2500\n",
        "#  5\n"
      ],
      "outputs": [],
      "execution_count": null
    }
  ],
  "metadata": {
    "anaconda-cloud": {},
    "kernelspec": {
      "display_name": "Python 3",
      "language": "python",
      "name": "python3"
    },
    "language_info": {
      "codemirror_mode": {
        "name": "ipython",
        "version": 3
      },
      "file_extension": ".py",
      "mimetype": "text/x-python",
      "name": "python",
      "nbconvert_exporter": "python",
      "pygments_lexer": "ipython3",
      "version": "3.6.1"
    }
  },
  "nbformat": 4,
  "nbformat_minor": 1
}