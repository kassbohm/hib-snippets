{
  "cells": [
    {
      "cell_type": "code",
      "metadata": {},
      "source": [
        "g = S(981)/10 *m/s**2\n",
        "\n",
        "t =        5 *s\n",
        "d = S(18)/10 *m\n",
        "G =        1 *kN\n",
        "\n",
        "mass = G/g\n",
        "\n",
        "a = var(\"a\")\n",
        "# x(t) = 1/2 a*t\u00b2\n",
        "eq = Eq(2*d, a*t**2/2)\n",
        "\n",
        "a = solve(eq,a)[0]\n",
        "tmp = a\n",
        "tmp /= m/s**2\n",
        "tmp = iso_round(tmp,0.001)\n",
        "pprint(tmp)"
      ],
      "outputs": [],
      "execution_count": null
    }
  ],
  "metadata": {
    "anaconda-cloud": {},
    "kernelspec": {
      "display_name": "Python 3",
      "language": "python",
      "name": "python3"
    },
    "language_info": {
      "codemirror_mode": {
        "name": "ipython",
        "version": 3
      },
      "file_extension": ".py",
      "mimetype": "text/x-python",
      "name": "python",
      "nbconvert_exporter": "python",
      "pygments_lexer": "ipython3",
      "version": "3.6.1"
    }
  },
  "nbformat": 4,
  "nbformat_minor": 1
}