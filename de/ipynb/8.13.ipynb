{
  "nbformat_minor": 1, 
  "nbformat": 4, 
  "cells": [
    {
      "source": [
        "from sympy.physics.units import *\n", 
        "from sympy import *\n", 
        "\n", 
        "g = 981 *m/s**2 /100\n", 
        "mm = m/1000\n", 
        "\n", 
        "F = 40 *newton\n", 
        "G = 1250 *newton\n", 
        "k = 240 *mm\n", 
        "t1 = 3 *s\n", 
        "r = 375 *mm\n", 
        "\n", 
        "mass = G/g\n", 
        "J = mass*k*k\n", 
        "\n", 
        "w1 = r * F/J *t1\n", 
        "pprint(\"\\n\u03c9 / (1/s):\")\n", 
        "pprint(N(w1 / (1/s),3))\n"
      ], 
      "cell_type": "code", 
      "execution_count": null, 
      "outputs": [], 
      "metadata": {}
    }
  ], 
  "metadata": {
    "kernelspec": {
      "display_name": "Python 3", 
      "name": "python3", 
      "language": "python"
    }, 
    "language_info": {
      "mimetype": "text/x-python", 
      "nbconvert_exporter": "python", 
      "name": "python", 
      "file_extension": ".py", 
      "version": "3.6.1", 
      "pygments_lexer": "ipython3", 
      "codemirror_mode": {
        "version": 3, 
        "name": "ipython"
      }
    }, 
    "anaconda-cloud": {}
  }
}