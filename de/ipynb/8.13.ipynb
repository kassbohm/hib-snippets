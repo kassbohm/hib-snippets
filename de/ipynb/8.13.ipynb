{
  "cells": [
    {
      "cell_type": "code",
      "metadata": {},
      "source": [
        "from sympy.physics.units import *\n",
        "from sympy import *\n",
        "\n",
        "g = 981 *m/s**2 /100\n",
        "mm = m/1000\n",
        "\n",
        "F = 40 *newton\n",
        "G = 1250 *newton\n",
        "k = 240 *mm\n",
        "t1 = 3 *s\n",
        "r = 375 *mm\n",
        "\n",
        "mass = G/g\n",
        "J = mass*k*k\n",
        "\n",
        "w1 = r * F/J *t1\n",
        "pprint(\"\\n\u03c9 / (1/s):\")\n",
        "pprint(N(w1 / (1/s),3))\n"
      ],
      "outputs": [],
      "execution_count": null
    }
  ],
  "metadata": {
    "anaconda-cloud": {},
    "kernelspec": {
      "display_name": "Python 3",
      "language": "python",
      "name": "python3"
    },
    "language_info": {
      "codemirror_mode": {
        "name": "ipython",
        "version": 3
      },
      "file_extension": ".py",
      "mimetype": "text/x-python",
      "name": "python",
      "nbconvert_exporter": "python",
      "pygments_lexer": "ipython3",
      "version": "3.6.1"
    }
  },
  "nbformat": 4,
  "nbformat_minor": 1
}