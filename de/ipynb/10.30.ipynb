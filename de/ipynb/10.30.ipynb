{
  "cells": [
    {
      "cell_type": "code",
      "metadata": {},
      "source": [
        "from sympy.physics.units import *\n",
        "from sympy import *\n",
        "\n",
        "M = var(\"mass\")\n",
        "g = 9.81 *m/s**2\n",
        "(d , h) = (1.5 *m , 2.5 *m)\n",
        "\n",
        "r = d/2\n",
        "\n",
        "pprint(\"\\nv1 / (m/s):\")\n",
        "v1 = sqrt(2*g*h)\n",
        "tmp = v1\n",
        "tmp /= m/s\n",
        "pprint(N(tmp,3))\n",
        "\n",
        "J_S = M*r**2 / 4\n",
        "J_A = J_S + M*r*r\n",
        "\n",
        "v2 = var(\"v2\")\n",
        "\n",
        "eq = Eq(r*M*v1, J_A*v2/r)\n",
        "\n",
        "sol = solve(eq,v2)[0]\n",
        "pprint(\"\\nv2 / (m/s):\")\n",
        "tmp = sol\n",
        "tmp /= m/s\n",
        "pprint(N(tmp,3))\n"
      ],
      "outputs": [],
      "execution_count": null
    }
  ],
  "metadata": {
    "anaconda-cloud": {},
    "kernelspec": {
      "display_name": "Python 3",
      "language": "python",
      "name": "python3"
    },
    "language_info": {
      "codemirror_mode": {
        "name": "ipython",
        "version": 3
      },
      "file_extension": ".py",
      "mimetype": "text/x-python",
      "name": "python",
      "nbconvert_exporter": "python",
      "pygments_lexer": "ipython3",
      "version": "3.6.1"
    }
  },
  "nbformat": 4,
  "nbformat_minor": 1
}